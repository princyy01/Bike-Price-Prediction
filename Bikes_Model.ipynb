{
 "cells": [
  {
   "cell_type": "code",
   "execution_count": 1,
   "id": "369f7958",
   "metadata": {},
   "outputs": [],
   "source": [
    "import pandas as pd"
   ]
  },
  {
   "cell_type": "code",
   "execution_count": 2,
   "id": "1e983897",
   "metadata": {},
   "outputs": [
    {
     "data": {
      "text/html": [
       "<div>\n",
       "<style scoped>\n",
       "    .dataframe tbody tr th:only-of-type {\n",
       "        vertical-align: middle;\n",
       "    }\n",
       "\n",
       "    .dataframe tbody tr th {\n",
       "        vertical-align: top;\n",
       "    }\n",
       "\n",
       "    .dataframe thead th {\n",
       "        text-align: right;\n",
       "    }\n",
       "</style>\n",
       "<table border=\"1\" class=\"dataframe\">\n",
       "  <thead>\n",
       "    <tr style=\"text-align: right;\">\n",
       "      <th></th>\n",
       "      <th>bike_name</th>\n",
       "      <th>price</th>\n",
       "      <th>city</th>\n",
       "      <th>kms_driven</th>\n",
       "      <th>owner</th>\n",
       "      <th>age</th>\n",
       "      <th>power</th>\n",
       "      <th>brand</th>\n",
       "    </tr>\n",
       "  </thead>\n",
       "  <tbody>\n",
       "    <tr>\n",
       "      <th>0</th>\n",
       "      <td>TVS Star City Plus Dual Tone 110cc</td>\n",
       "      <td>35000.0</td>\n",
       "      <td>Ahmedabad</td>\n",
       "      <td>17654.0</td>\n",
       "      <td>First Owner</td>\n",
       "      <td>3.0</td>\n",
       "      <td>110.0</td>\n",
       "      <td>TVS</td>\n",
       "    </tr>\n",
       "    <tr>\n",
       "      <th>1</th>\n",
       "      <td>Royal Enfield Classic 350cc</td>\n",
       "      <td>119900.0</td>\n",
       "      <td>Delhi</td>\n",
       "      <td>11000.0</td>\n",
       "      <td>First Owner</td>\n",
       "      <td>4.0</td>\n",
       "      <td>350.0</td>\n",
       "      <td>Royal Enfield</td>\n",
       "    </tr>\n",
       "    <tr>\n",
       "      <th>2</th>\n",
       "      <td>Triumph Daytona 675R</td>\n",
       "      <td>600000.0</td>\n",
       "      <td>Delhi</td>\n",
       "      <td>110.0</td>\n",
       "      <td>First Owner</td>\n",
       "      <td>8.0</td>\n",
       "      <td>675.0</td>\n",
       "      <td>Triumph</td>\n",
       "    </tr>\n",
       "    <tr>\n",
       "      <th>3</th>\n",
       "      <td>TVS Apache RTR 180cc</td>\n",
       "      <td>65000.0</td>\n",
       "      <td>Bangalore</td>\n",
       "      <td>16329.0</td>\n",
       "      <td>First Owner</td>\n",
       "      <td>4.0</td>\n",
       "      <td>180.0</td>\n",
       "      <td>TVS</td>\n",
       "    </tr>\n",
       "    <tr>\n",
       "      <th>4</th>\n",
       "      <td>Yamaha FZ S V 2.0 150cc-Ltd. Edition</td>\n",
       "      <td>80000.0</td>\n",
       "      <td>Bangalore</td>\n",
       "      <td>10000.0</td>\n",
       "      <td>First Owner</td>\n",
       "      <td>3.0</td>\n",
       "      <td>150.0</td>\n",
       "      <td>Yamaha</td>\n",
       "    </tr>\n",
       "  </tbody>\n",
       "</table>\n",
       "</div>"
      ],
      "text/plain": [
       "                              bike_name     price       city  kms_driven  \\\n",
       "0    TVS Star City Plus Dual Tone 110cc   35000.0  Ahmedabad     17654.0   \n",
       "1           Royal Enfield Classic 350cc  119900.0      Delhi     11000.0   \n",
       "2                  Triumph Daytona 675R  600000.0      Delhi       110.0   \n",
       "3                  TVS Apache RTR 180cc   65000.0  Bangalore     16329.0   \n",
       "4  Yamaha FZ S V 2.0 150cc-Ltd. Edition   80000.0  Bangalore     10000.0   \n",
       "\n",
       "         owner  age  power          brand  \n",
       "0  First Owner  3.0  110.0            TVS  \n",
       "1  First Owner  4.0  350.0  Royal Enfield  \n",
       "2  First Owner  8.0  675.0        Triumph  \n",
       "3  First Owner  4.0  180.0            TVS  \n",
       "4  First Owner  3.0  150.0         Yamaha  "
      ]
     },
     "execution_count": 2,
     "metadata": {},
     "output_type": "execute_result"
    }
   ],
   "source": [
    "df = pd.read_csv('Used_Bikes.csv')\n",
    "df.head()"
   ]
  },
  {
   "cell_type": "code",
   "execution_count": 4,
   "id": "a831f1b4",
   "metadata": {},
   "outputs": [
    {
     "data": {
      "text/plain": [
       "bike_name     0\n",
       "price         0\n",
       "city          0\n",
       "kms_driven    0\n",
       "owner         0\n",
       "age           0\n",
       "power         0\n",
       "brand         0\n",
       "dtype: int64"
      ]
     },
     "execution_count": 4,
     "metadata": {},
     "output_type": "execute_result"
    }
   ],
   "source": [
    "df.isnull().sum()    "
   ]
  },
  {
   "cell_type": "code",
   "execution_count": 5,
   "id": "c719b518",
   "metadata": {},
   "outputs": [
    {
     "data": {
      "text/plain": [
       "25324"
      ]
     },
     "execution_count": 5,
     "metadata": {},
     "output_type": "execute_result"
    }
   ],
   "source": [
    "df.duplicated().sum()"
   ]
  },
  {
   "cell_type": "code",
   "execution_count": 6,
   "id": "911df70f",
   "metadata": {},
   "outputs": [],
   "source": [
    "df.drop_duplicates(inplace=True)"
   ]
  },
  {
   "cell_type": "code",
   "execution_count": 7,
   "id": "88d01de8",
   "metadata": {},
   "outputs": [
    {
     "data": {
      "text/plain": [
       "(7324, 8)"
      ]
     },
     "execution_count": 7,
     "metadata": {},
     "output_type": "execute_result"
    }
   ],
   "source": [
    "df.shape"
   ]
  },
  {
   "cell_type": "code",
   "execution_count": 8,
   "id": "eea1a079",
   "metadata": {},
   "outputs": [
    {
     "data": {
      "text/plain": [
       "bike_name      object\n",
       "price         float64\n",
       "city           object\n",
       "kms_driven    float64\n",
       "owner          object\n",
       "age           float64\n",
       "power         float64\n",
       "brand          object\n",
       "dtype: object"
      ]
     },
     "execution_count": 8,
     "metadata": {},
     "output_type": "execute_result"
    }
   ],
   "source": [
    "df.dtypes"
   ]
  },
  {
   "cell_type": "code",
   "execution_count": 9,
   "id": "77b32483",
   "metadata": {},
   "outputs": [],
   "source": [
    "#we have to convert all categorical values into numerical since ML can only handle numericals"
   ]
  },
  {
   "cell_type": "code",
   "execution_count": 10,
   "id": "d0156f24",
   "metadata": {},
   "outputs": [
    {
     "data": {
      "text/html": [
       "<div>\n",
       "<style scoped>\n",
       "    .dataframe tbody tr th:only-of-type {\n",
       "        vertical-align: middle;\n",
       "    }\n",
       "\n",
       "    .dataframe tbody tr th {\n",
       "        vertical-align: top;\n",
       "    }\n",
       "\n",
       "    .dataframe thead th {\n",
       "        text-align: right;\n",
       "    }\n",
       "</style>\n",
       "<table border=\"1\" class=\"dataframe\">\n",
       "  <thead>\n",
       "    <tr style=\"text-align: right;\">\n",
       "      <th></th>\n",
       "      <th>bike_name</th>\n",
       "      <th>city</th>\n",
       "      <th>owner</th>\n",
       "      <th>brand</th>\n",
       "    </tr>\n",
       "  </thead>\n",
       "  <tbody>\n",
       "    <tr>\n",
       "      <th>0</th>\n",
       "      <td>TVS Star City Plus Dual Tone 110cc</td>\n",
       "      <td>Ahmedabad</td>\n",
       "      <td>First Owner</td>\n",
       "      <td>TVS</td>\n",
       "    </tr>\n",
       "    <tr>\n",
       "      <th>1</th>\n",
       "      <td>Royal Enfield Classic 350cc</td>\n",
       "      <td>Delhi</td>\n",
       "      <td>First Owner</td>\n",
       "      <td>Royal Enfield</td>\n",
       "    </tr>\n",
       "    <tr>\n",
       "      <th>2</th>\n",
       "      <td>Triumph Daytona 675R</td>\n",
       "      <td>Delhi</td>\n",
       "      <td>First Owner</td>\n",
       "      <td>Triumph</td>\n",
       "    </tr>\n",
       "    <tr>\n",
       "      <th>3</th>\n",
       "      <td>TVS Apache RTR 180cc</td>\n",
       "      <td>Bangalore</td>\n",
       "      <td>First Owner</td>\n",
       "      <td>TVS</td>\n",
       "    </tr>\n",
       "    <tr>\n",
       "      <th>4</th>\n",
       "      <td>Yamaha FZ S V 2.0 150cc-Ltd. Edition</td>\n",
       "      <td>Bangalore</td>\n",
       "      <td>First Owner</td>\n",
       "      <td>Yamaha</td>\n",
       "    </tr>\n",
       "  </tbody>\n",
       "</table>\n",
       "</div>"
      ],
      "text/plain": [
       "                              bike_name       city        owner          brand\n",
       "0    TVS Star City Plus Dual Tone 110cc  Ahmedabad  First Owner            TVS\n",
       "1           Royal Enfield Classic 350cc      Delhi  First Owner  Royal Enfield\n",
       "2                  Triumph Daytona 675R      Delhi  First Owner        Triumph\n",
       "3                  TVS Apache RTR 180cc  Bangalore  First Owner            TVS\n",
       "4  Yamaha FZ S V 2.0 150cc-Ltd. Edition  Bangalore  First Owner         Yamaha"
      ]
     },
     "execution_count": 10,
     "metadata": {},
     "output_type": "execute_result"
    }
   ],
   "source": [
    "cat_col = df.select_dtypes(include=\"O\")    #object datatypes are now hold into cat_Col\n",
    "cat_col.head()"
   ]
  },
  {
   "cell_type": "code",
   "execution_count": 11,
   "id": "12d636a8",
   "metadata": {},
   "outputs": [
    {
     "data": {
      "text/html": [
       "<div>\n",
       "<style scoped>\n",
       "    .dataframe tbody tr th:only-of-type {\n",
       "        vertical-align: middle;\n",
       "    }\n",
       "\n",
       "    .dataframe tbody tr th {\n",
       "        vertical-align: top;\n",
       "    }\n",
       "\n",
       "    .dataframe thead th {\n",
       "        text-align: right;\n",
       "    }\n",
       "</style>\n",
       "<table border=\"1\" class=\"dataframe\">\n",
       "  <thead>\n",
       "    <tr style=\"text-align: right;\">\n",
       "      <th></th>\n",
       "      <th>price</th>\n",
       "      <th>kms_driven</th>\n",
       "      <th>age</th>\n",
       "      <th>power</th>\n",
       "    </tr>\n",
       "  </thead>\n",
       "  <tbody>\n",
       "    <tr>\n",
       "      <th>0</th>\n",
       "      <td>35000.0</td>\n",
       "      <td>17654.0</td>\n",
       "      <td>3.0</td>\n",
       "      <td>110.0</td>\n",
       "    </tr>\n",
       "    <tr>\n",
       "      <th>1</th>\n",
       "      <td>119900.0</td>\n",
       "      <td>11000.0</td>\n",
       "      <td>4.0</td>\n",
       "      <td>350.0</td>\n",
       "    </tr>\n",
       "  </tbody>\n",
       "</table>\n",
       "</div>"
      ],
      "text/plain": [
       "      price  kms_driven  age  power\n",
       "0   35000.0     17654.0  3.0  110.0\n",
       "1  119900.0     11000.0  4.0  350.0"
      ]
     },
     "execution_count": 11,
     "metadata": {},
     "output_type": "execute_result"
    }
   ],
   "source": [
    "num_col = df.select_dtypes(exclude = \"O\")\n",
    "num_col.head(2)"
   ]
  },
  {
   "cell_type": "code",
   "execution_count": 12,
   "id": "d3634f9e",
   "metadata": {},
   "outputs": [],
   "source": [
    "#feature selection  -> select only those columns which gives valuable info rather than selecting all columns"
   ]
  },
  {
   "cell_type": "code",
   "execution_count": 13,
   "id": "358e4c42",
   "metadata": {},
   "outputs": [
    {
     "data": {
      "text/html": [
       "<div>\n",
       "<style scoped>\n",
       "    .dataframe tbody tr th:only-of-type {\n",
       "        vertical-align: middle;\n",
       "    }\n",
       "\n",
       "    .dataframe tbody tr th {\n",
       "        vertical-align: top;\n",
       "    }\n",
       "\n",
       "    .dataframe thead th {\n",
       "        text-align: right;\n",
       "    }\n",
       "</style>\n",
       "<table border=\"1\" class=\"dataframe\">\n",
       "  <thead>\n",
       "    <tr style=\"text-align: right;\">\n",
       "      <th></th>\n",
       "      <th>owner</th>\n",
       "      <th>brand</th>\n",
       "    </tr>\n",
       "  </thead>\n",
       "  <tbody>\n",
       "    <tr>\n",
       "      <th>0</th>\n",
       "      <td>First Owner</td>\n",
       "      <td>TVS</td>\n",
       "    </tr>\n",
       "    <tr>\n",
       "      <th>1</th>\n",
       "      <td>First Owner</td>\n",
       "      <td>Royal Enfield</td>\n",
       "    </tr>\n",
       "    <tr>\n",
       "      <th>2</th>\n",
       "      <td>First Owner</td>\n",
       "      <td>Triumph</td>\n",
       "    </tr>\n",
       "    <tr>\n",
       "      <th>3</th>\n",
       "      <td>First Owner</td>\n",
       "      <td>TVS</td>\n",
       "    </tr>\n",
       "    <tr>\n",
       "      <th>4</th>\n",
       "      <td>First Owner</td>\n",
       "      <td>Yamaha</td>\n",
       "    </tr>\n",
       "    <tr>\n",
       "      <th>...</th>\n",
       "      <td>...</td>\n",
       "      <td>...</td>\n",
       "    </tr>\n",
       "    <tr>\n",
       "      <th>9362</th>\n",
       "      <td>First Owner</td>\n",
       "      <td>Hero</td>\n",
       "    </tr>\n",
       "    <tr>\n",
       "      <th>9369</th>\n",
       "      <td>First Owner</td>\n",
       "      <td>Bajaj</td>\n",
       "    </tr>\n",
       "    <tr>\n",
       "      <th>9370</th>\n",
       "      <td>First Owner</td>\n",
       "      <td>Harley-Davidson</td>\n",
       "    </tr>\n",
       "    <tr>\n",
       "      <th>9371</th>\n",
       "      <td>First Owner</td>\n",
       "      <td>Bajaj</td>\n",
       "    </tr>\n",
       "    <tr>\n",
       "      <th>9372</th>\n",
       "      <td>First Owner</td>\n",
       "      <td>Bajaj</td>\n",
       "    </tr>\n",
       "  </tbody>\n",
       "</table>\n",
       "<p>7324 rows × 2 columns</p>\n",
       "</div>"
      ],
      "text/plain": [
       "            owner            brand\n",
       "0     First Owner              TVS\n",
       "1     First Owner    Royal Enfield\n",
       "2     First Owner          Triumph\n",
       "3     First Owner              TVS\n",
       "4     First Owner           Yamaha\n",
       "...           ...              ...\n",
       "9362  First Owner             Hero\n",
       "9369  First Owner            Bajaj\n",
       "9370  First Owner  Harley-Davidson\n",
       "9371  First Owner            Bajaj\n",
       "9372  First Owner            Bajaj\n",
       "\n",
       "[7324 rows x 2 columns]"
      ]
     },
     "execution_count": 13,
     "metadata": {},
     "output_type": "execute_result"
    }
   ],
   "source": [
    "cat_col = cat_col.drop(['bike_name','city'],axis=1)\n",
    "cat_col"
   ]
  },
  {
   "cell_type": "code",
   "execution_count": 15,
   "id": "032c7518",
   "metadata": {},
   "outputs": [
    {
     "data": {
      "text/plain": [
       "First Owner             6642\n",
       "Second Owner             588\n",
       "Third Owner               84\n",
       "Fourth Owner Or More      10\n",
       "Name: owner, dtype: int64"
      ]
     },
     "execution_count": 15,
     "metadata": {},
     "output_type": "execute_result"
    }
   ],
   "source": [
    "cat_col['owner'].value_counts()"
   ]
  },
  {
   "cell_type": "code",
   "execution_count": 16,
   "id": "743f17e1",
   "metadata": {},
   "outputs": [
    {
     "data": {
      "text/plain": [
       "{'First Owner': 1,\n",
       " 'Second Owner': 2,\n",
       " 'Third Owner': 3,\n",
       " 'Fourth Owner Or More': 4}"
      ]
     },
     "execution_count": 16,
     "metadata": {},
     "output_type": "execute_result"
    }
   ],
   "source": [
    "dt = {\"First Owner\":1,\"Second Owner\":2,\"Third Owner\":3,\"Fourth Owner Or More\":4}\n",
    "dt"
   ]
  },
  {
   "cell_type": "code",
   "execution_count": 17,
   "id": "62907fa6",
   "metadata": {},
   "outputs": [
    {
     "data": {
      "text/plain": [
       "0       First Owner\n",
       "1       First Owner\n",
       "2       First Owner\n",
       "3       First Owner\n",
       "4       First Owner\n",
       "           ...     \n",
       "9362    First Owner\n",
       "9369    First Owner\n",
       "9370    First Owner\n",
       "9371    First Owner\n",
       "9372    First Owner\n",
       "Name: owner, Length: 7324, dtype: object"
      ]
     },
     "execution_count": 17,
     "metadata": {},
     "output_type": "execute_result"
    }
   ],
   "source": [
    "cat_col['owner']"
   ]
  },
  {
   "cell_type": "code",
   "execution_count": 19,
   "id": "7557e33b",
   "metadata": {},
   "outputs": [],
   "source": [
    "cat_col['owner'] = cat_col['owner'].map(dt)"
   ]
  },
  {
   "cell_type": "code",
   "execution_count": 20,
   "id": "0dab9efc",
   "metadata": {
    "scrolled": true
   },
   "outputs": [
    {
     "data": {
      "text/html": [
       "<div>\n",
       "<style scoped>\n",
       "    .dataframe tbody tr th:only-of-type {\n",
       "        vertical-align: middle;\n",
       "    }\n",
       "\n",
       "    .dataframe tbody tr th {\n",
       "        vertical-align: top;\n",
       "    }\n",
       "\n",
       "    .dataframe thead th {\n",
       "        text-align: right;\n",
       "    }\n",
       "</style>\n",
       "<table border=\"1\" class=\"dataframe\">\n",
       "  <thead>\n",
       "    <tr style=\"text-align: right;\">\n",
       "      <th></th>\n",
       "      <th>owner</th>\n",
       "      <th>brand</th>\n",
       "    </tr>\n",
       "  </thead>\n",
       "  <tbody>\n",
       "    <tr>\n",
       "      <th>0</th>\n",
       "      <td>1</td>\n",
       "      <td>TVS</td>\n",
       "    </tr>\n",
       "    <tr>\n",
       "      <th>1</th>\n",
       "      <td>1</td>\n",
       "      <td>Royal Enfield</td>\n",
       "    </tr>\n",
       "    <tr>\n",
       "      <th>2</th>\n",
       "      <td>1</td>\n",
       "      <td>Triumph</td>\n",
       "    </tr>\n",
       "    <tr>\n",
       "      <th>3</th>\n",
       "      <td>1</td>\n",
       "      <td>TVS</td>\n",
       "    </tr>\n",
       "    <tr>\n",
       "      <th>4</th>\n",
       "      <td>1</td>\n",
       "      <td>Yamaha</td>\n",
       "    </tr>\n",
       "    <tr>\n",
       "      <th>...</th>\n",
       "      <td>...</td>\n",
       "      <td>...</td>\n",
       "    </tr>\n",
       "    <tr>\n",
       "      <th>9362</th>\n",
       "      <td>1</td>\n",
       "      <td>Hero</td>\n",
       "    </tr>\n",
       "    <tr>\n",
       "      <th>9369</th>\n",
       "      <td>1</td>\n",
       "      <td>Bajaj</td>\n",
       "    </tr>\n",
       "    <tr>\n",
       "      <th>9370</th>\n",
       "      <td>1</td>\n",
       "      <td>Harley-Davidson</td>\n",
       "    </tr>\n",
       "    <tr>\n",
       "      <th>9371</th>\n",
       "      <td>1</td>\n",
       "      <td>Bajaj</td>\n",
       "    </tr>\n",
       "    <tr>\n",
       "      <th>9372</th>\n",
       "      <td>1</td>\n",
       "      <td>Bajaj</td>\n",
       "    </tr>\n",
       "  </tbody>\n",
       "</table>\n",
       "<p>7324 rows × 2 columns</p>\n",
       "</div>"
      ],
      "text/plain": [
       "      owner            brand\n",
       "0         1              TVS\n",
       "1         1    Royal Enfield\n",
       "2         1          Triumph\n",
       "3         1              TVS\n",
       "4         1           Yamaha\n",
       "...     ...              ...\n",
       "9362      1             Hero\n",
       "9369      1            Bajaj\n",
       "9370      1  Harley-Davidson\n",
       "9371      1            Bajaj\n",
       "9372      1            Bajaj\n",
       "\n",
       "[7324 rows x 2 columns]"
      ]
     },
     "execution_count": 20,
     "metadata": {},
     "output_type": "execute_result"
    }
   ],
   "source": [
    "cat_col"
   ]
  },
  {
   "cell_type": "code",
   "execution_count": 21,
   "id": "d853ac7f",
   "metadata": {},
   "outputs": [],
   "source": [
    "#now we have to convert brand column into numerical"
   ]
  },
  {
   "cell_type": "code",
   "execution_count": 22,
   "id": "e9de25d3",
   "metadata": {},
   "outputs": [
    {
     "data": {
      "text/plain": [
       "23"
      ]
     },
     "execution_count": 22,
     "metadata": {},
     "output_type": "execute_result"
    }
   ],
   "source": [
    "cat_col['brand'].nunique()"
   ]
  },
  {
   "cell_type": "code",
   "execution_count": 23,
   "id": "ee1ae497",
   "metadata": {},
   "outputs": [
    {
     "data": {
      "text/plain": [
       "array(['TVS', 'Royal Enfield', 'Triumph', 'Yamaha', 'Honda', 'Hero',\n",
       "       'Bajaj', 'Suzuki', 'Benelli', 'KTM', 'Mahindra', 'Kawasaki',\n",
       "       'Ducati', 'Hyosung', 'Harley-Davidson', 'Jawa', 'BMW', 'Indian',\n",
       "       'Rajdoot', 'LML', 'Yezdi', 'MV', 'Ideal'], dtype=object)"
      ]
     },
     "execution_count": 23,
     "metadata": {},
     "output_type": "execute_result"
    }
   ],
   "source": [
    "cat_col['brand'].unique()"
   ]
  },
  {
   "cell_type": "code",
   "execution_count": 24,
   "id": "3d4915d3",
   "metadata": {},
   "outputs": [
    {
     "data": {
      "text/plain": [
       "['TVS',\n",
       " 'Royal Enfield',\n",
       " 'Triumph',\n",
       " 'Yamaha',\n",
       " 'Honda',\n",
       " 'Hero',\n",
       " 'Bajaj',\n",
       " 'Suzuki',\n",
       " 'Benelli',\n",
       " 'KTM',\n",
       " 'Mahindra',\n",
       " 'Kawasaki',\n",
       " 'Ducati',\n",
       " 'Hyosung',\n",
       " 'Harley-Davidson',\n",
       " 'Jawa',\n",
       " 'BMW',\n",
       " 'Indian',\n",
       " 'Rajdoot',\n",
       " 'LML',\n",
       " 'Yezdi',\n",
       " 'MV',\n",
       " 'Ideal']"
      ]
     },
     "execution_count": 24,
     "metadata": {},
     "output_type": "execute_result"
    }
   ],
   "source": [
    "unique_brands = list(cat_col['brand'].unique())\n",
    "unique_brands"
   ]
  },
  {
   "cell_type": "code",
   "execution_count": 25,
   "id": "2e4531b8",
   "metadata": {},
   "outputs": [],
   "source": [
    "num = 1\n",
    "dt2 = {}\n",
    "for i in unique_brands:\n",
    "    dt2[i] = num\n",
    "    num+=1"
   ]
  },
  {
   "cell_type": "code",
   "execution_count": 26,
   "id": "55c612c3",
   "metadata": {},
   "outputs": [
    {
     "data": {
      "text/plain": [
       "{'TVS': 1,\n",
       " 'Royal Enfield': 2,\n",
       " 'Triumph': 3,\n",
       " 'Yamaha': 4,\n",
       " 'Honda': 5,\n",
       " 'Hero': 6,\n",
       " 'Bajaj': 7,\n",
       " 'Suzuki': 8,\n",
       " 'Benelli': 9,\n",
       " 'KTM': 10,\n",
       " 'Mahindra': 11,\n",
       " 'Kawasaki': 12,\n",
       " 'Ducati': 13,\n",
       " 'Hyosung': 14,\n",
       " 'Harley-Davidson': 15,\n",
       " 'Jawa': 16,\n",
       " 'BMW': 17,\n",
       " 'Indian': 18,\n",
       " 'Rajdoot': 19,\n",
       " 'LML': 20,\n",
       " 'Yezdi': 21,\n",
       " 'MV': 22,\n",
       " 'Ideal': 23}"
      ]
     },
     "execution_count": 26,
     "metadata": {},
     "output_type": "execute_result"
    }
   ],
   "source": [
    "dt2"
   ]
  },
  {
   "cell_type": "code",
   "execution_count": 27,
   "id": "22fc44c6",
   "metadata": {},
   "outputs": [],
   "source": [
    "cat_col['brand'] = cat_col['brand'].map(dt2)      "
   ]
  },
  {
   "cell_type": "code",
   "execution_count": 30,
   "id": "c54bed0a",
   "metadata": {},
   "outputs": [
    {
     "data": {
      "text/html": [
       "<div>\n",
       "<style scoped>\n",
       "    .dataframe tbody tr th:only-of-type {\n",
       "        vertical-align: middle;\n",
       "    }\n",
       "\n",
       "    .dataframe tbody tr th {\n",
       "        vertical-align: top;\n",
       "    }\n",
       "\n",
       "    .dataframe thead th {\n",
       "        text-align: right;\n",
       "    }\n",
       "</style>\n",
       "<table border=\"1\" class=\"dataframe\">\n",
       "  <thead>\n",
       "    <tr style=\"text-align: right;\">\n",
       "      <th></th>\n",
       "      <th>owner</th>\n",
       "      <th>brand</th>\n",
       "    </tr>\n",
       "  </thead>\n",
       "  <tbody>\n",
       "    <tr>\n",
       "      <th>0</th>\n",
       "      <td>1</td>\n",
       "      <td>1</td>\n",
       "    </tr>\n",
       "    <tr>\n",
       "      <th>1</th>\n",
       "      <td>1</td>\n",
       "      <td>2</td>\n",
       "    </tr>\n",
       "    <tr>\n",
       "      <th>2</th>\n",
       "      <td>1</td>\n",
       "      <td>3</td>\n",
       "    </tr>\n",
       "    <tr>\n",
       "      <th>3</th>\n",
       "      <td>1</td>\n",
       "      <td>1</td>\n",
       "    </tr>\n",
       "    <tr>\n",
       "      <th>4</th>\n",
       "      <td>1</td>\n",
       "      <td>4</td>\n",
       "    </tr>\n",
       "    <tr>\n",
       "      <th>...</th>\n",
       "      <td>...</td>\n",
       "      <td>...</td>\n",
       "    </tr>\n",
       "    <tr>\n",
       "      <th>9362</th>\n",
       "      <td>1</td>\n",
       "      <td>6</td>\n",
       "    </tr>\n",
       "    <tr>\n",
       "      <th>9369</th>\n",
       "      <td>1</td>\n",
       "      <td>7</td>\n",
       "    </tr>\n",
       "    <tr>\n",
       "      <th>9370</th>\n",
       "      <td>1</td>\n",
       "      <td>15</td>\n",
       "    </tr>\n",
       "    <tr>\n",
       "      <th>9371</th>\n",
       "      <td>1</td>\n",
       "      <td>7</td>\n",
       "    </tr>\n",
       "    <tr>\n",
       "      <th>9372</th>\n",
       "      <td>1</td>\n",
       "      <td>7</td>\n",
       "    </tr>\n",
       "  </tbody>\n",
       "</table>\n",
       "<p>7324 rows × 2 columns</p>\n",
       "</div>"
      ],
      "text/plain": [
       "      owner  brand\n",
       "0         1      1\n",
       "1         1      2\n",
       "2         1      3\n",
       "3         1      1\n",
       "4         1      4\n",
       "...     ...    ...\n",
       "9362      1      6\n",
       "9369      1      7\n",
       "9370      1     15\n",
       "9371      1      7\n",
       "9372      1      7\n",
       "\n",
       "[7324 rows x 2 columns]"
      ]
     },
     "execution_count": 30,
     "metadata": {},
     "output_type": "execute_result"
    }
   ],
   "source": [
    "cat_col"
   ]
  },
  {
   "cell_type": "code",
   "execution_count": 31,
   "id": "20b7ed0b",
   "metadata": {},
   "outputs": [
    {
     "data": {
      "text/html": [
       "<div>\n",
       "<style scoped>\n",
       "    .dataframe tbody tr th:only-of-type {\n",
       "        vertical-align: middle;\n",
       "    }\n",
       "\n",
       "    .dataframe tbody tr th {\n",
       "        vertical-align: top;\n",
       "    }\n",
       "\n",
       "    .dataframe thead th {\n",
       "        text-align: right;\n",
       "    }\n",
       "</style>\n",
       "<table border=\"1\" class=\"dataframe\">\n",
       "  <thead>\n",
       "    <tr style=\"text-align: right;\">\n",
       "      <th></th>\n",
       "      <th>owner</th>\n",
       "      <th>brand</th>\n",
       "      <th>price</th>\n",
       "      <th>kms_driven</th>\n",
       "      <th>age</th>\n",
       "      <th>power</th>\n",
       "    </tr>\n",
       "  </thead>\n",
       "  <tbody>\n",
       "    <tr>\n",
       "      <th>0</th>\n",
       "      <td>1</td>\n",
       "      <td>1</td>\n",
       "      <td>35000.0</td>\n",
       "      <td>17654.0</td>\n",
       "      <td>3.0</td>\n",
       "      <td>110.0</td>\n",
       "    </tr>\n",
       "    <tr>\n",
       "      <th>1</th>\n",
       "      <td>1</td>\n",
       "      <td>2</td>\n",
       "      <td>119900.0</td>\n",
       "      <td>11000.0</td>\n",
       "      <td>4.0</td>\n",
       "      <td>350.0</td>\n",
       "    </tr>\n",
       "    <tr>\n",
       "      <th>2</th>\n",
       "      <td>1</td>\n",
       "      <td>3</td>\n",
       "      <td>600000.0</td>\n",
       "      <td>110.0</td>\n",
       "      <td>8.0</td>\n",
       "      <td>675.0</td>\n",
       "    </tr>\n",
       "    <tr>\n",
       "      <th>3</th>\n",
       "      <td>1</td>\n",
       "      <td>1</td>\n",
       "      <td>65000.0</td>\n",
       "      <td>16329.0</td>\n",
       "      <td>4.0</td>\n",
       "      <td>180.0</td>\n",
       "    </tr>\n",
       "    <tr>\n",
       "      <th>4</th>\n",
       "      <td>1</td>\n",
       "      <td>4</td>\n",
       "      <td>80000.0</td>\n",
       "      <td>10000.0</td>\n",
       "      <td>3.0</td>\n",
       "      <td>150.0</td>\n",
       "    </tr>\n",
       "    <tr>\n",
       "      <th>...</th>\n",
       "      <td>...</td>\n",
       "      <td>...</td>\n",
       "      <td>...</td>\n",
       "      <td>...</td>\n",
       "      <td>...</td>\n",
       "      <td>...</td>\n",
       "    </tr>\n",
       "    <tr>\n",
       "      <th>9362</th>\n",
       "      <td>1</td>\n",
       "      <td>6</td>\n",
       "      <td>25000.0</td>\n",
       "      <td>48587.0</td>\n",
       "      <td>8.0</td>\n",
       "      <td>150.0</td>\n",
       "    </tr>\n",
       "    <tr>\n",
       "      <th>9369</th>\n",
       "      <td>1</td>\n",
       "      <td>7</td>\n",
       "      <td>35000.0</td>\n",
       "      <td>60000.0</td>\n",
       "      <td>9.0</td>\n",
       "      <td>220.0</td>\n",
       "    </tr>\n",
       "    <tr>\n",
       "      <th>9370</th>\n",
       "      <td>1</td>\n",
       "      <td>15</td>\n",
       "      <td>450000.0</td>\n",
       "      <td>3430.0</td>\n",
       "      <td>4.0</td>\n",
       "      <td>750.0</td>\n",
       "    </tr>\n",
       "    <tr>\n",
       "      <th>9371</th>\n",
       "      <td>1</td>\n",
       "      <td>7</td>\n",
       "      <td>139000.0</td>\n",
       "      <td>21300.0</td>\n",
       "      <td>4.0</td>\n",
       "      <td>400.0</td>\n",
       "    </tr>\n",
       "    <tr>\n",
       "      <th>9372</th>\n",
       "      <td>1</td>\n",
       "      <td>7</td>\n",
       "      <td>80000.0</td>\n",
       "      <td>7127.0</td>\n",
       "      <td>5.0</td>\n",
       "      <td>220.0</td>\n",
       "    </tr>\n",
       "  </tbody>\n",
       "</table>\n",
       "<p>7324 rows × 6 columns</p>\n",
       "</div>"
      ],
      "text/plain": [
       "      owner  brand     price  kms_driven  age  power\n",
       "0         1      1   35000.0     17654.0  3.0  110.0\n",
       "1         1      2  119900.0     11000.0  4.0  350.0\n",
       "2         1      3  600000.0       110.0  8.0  675.0\n",
       "3         1      1   65000.0     16329.0  4.0  180.0\n",
       "4         1      4   80000.0     10000.0  3.0  150.0\n",
       "...     ...    ...       ...         ...  ...    ...\n",
       "9362      1      6   25000.0     48587.0  8.0  150.0\n",
       "9369      1      7   35000.0     60000.0  9.0  220.0\n",
       "9370      1     15  450000.0      3430.0  4.0  750.0\n",
       "9371      1      7  139000.0     21300.0  4.0  400.0\n",
       "9372      1      7   80000.0      7127.0  5.0  220.0\n",
       "\n",
       "[7324 rows x 6 columns]"
      ]
     },
     "execution_count": 31,
     "metadata": {},
     "output_type": "execute_result"
    }
   ],
   "source": [
    "df2 = pd.concat([cat_col,num_col],axis=1)\n",
    "df2"
   ]
  },
  {
   "cell_type": "code",
   "execution_count": 32,
   "id": "29624b9d",
   "metadata": {},
   "outputs": [
    {
     "data": {
      "text/plain": [
       "owner         0\n",
       "brand         0\n",
       "price         0\n",
       "kms_driven    0\n",
       "age           0\n",
       "power         0\n",
       "dtype: int64"
      ]
     },
     "execution_count": 32,
     "metadata": {},
     "output_type": "execute_result"
    }
   ],
   "source": [
    "df2.isnull().sum()"
   ]
  },
  {
   "cell_type": "code",
   "execution_count": 33,
   "id": "c5e615e8",
   "metadata": {},
   "outputs": [],
   "source": [
    "x = df2.drop('price',axis='columns')\n",
    "y =  df2[['price']]"
   ]
  },
  {
   "cell_type": "code",
   "execution_count": 34,
   "id": "2a9bd628",
   "metadata": {},
   "outputs": [],
   "source": [
    "from sklearn.model_selection import train_test_split"
   ]
  },
  {
   "cell_type": "code",
   "execution_count": 35,
   "id": "afb6f0bb",
   "metadata": {},
   "outputs": [],
   "source": [
    "x_train,x_test,y_train,y_test = train_test_split(x,y,test_size=0.2)"
   ]
  },
  {
   "cell_type": "code",
   "execution_count": 36,
   "id": "bdccdbf8",
   "metadata": {},
   "outputs": [
    {
     "data": {
      "text/html": [
       "<div>\n",
       "<style scoped>\n",
       "    .dataframe tbody tr th:only-of-type {\n",
       "        vertical-align: middle;\n",
       "    }\n",
       "\n",
       "    .dataframe tbody tr th {\n",
       "        vertical-align: top;\n",
       "    }\n",
       "\n",
       "    .dataframe thead th {\n",
       "        text-align: right;\n",
       "    }\n",
       "</style>\n",
       "<table border=\"1\" class=\"dataframe\">\n",
       "  <thead>\n",
       "    <tr style=\"text-align: right;\">\n",
       "      <th></th>\n",
       "      <th>owner</th>\n",
       "      <th>brand</th>\n",
       "      <th>kms_driven</th>\n",
       "      <th>age</th>\n",
       "      <th>power</th>\n",
       "    </tr>\n",
       "  </thead>\n",
       "  <tbody>\n",
       "    <tr>\n",
       "      <th>6330</th>\n",
       "      <td>1</td>\n",
       "      <td>7</td>\n",
       "      <td>33500.0</td>\n",
       "      <td>8.0</td>\n",
       "      <td>180.0</td>\n",
       "    </tr>\n",
       "    <tr>\n",
       "      <th>8907</th>\n",
       "      <td>1</td>\n",
       "      <td>7</td>\n",
       "      <td>350.0</td>\n",
       "      <td>4.0</td>\n",
       "      <td>200.0</td>\n",
       "    </tr>\n",
       "    <tr>\n",
       "      <th>5573</th>\n",
       "      <td>1</td>\n",
       "      <td>7</td>\n",
       "      <td>37000.0</td>\n",
       "      <td>8.0</td>\n",
       "      <td>100.0</td>\n",
       "    </tr>\n",
       "    <tr>\n",
       "      <th>9079</th>\n",
       "      <td>1</td>\n",
       "      <td>6</td>\n",
       "      <td>28000.0</td>\n",
       "      <td>9.0</td>\n",
       "      <td>100.0</td>\n",
       "    </tr>\n",
       "    <tr>\n",
       "      <th>2700</th>\n",
       "      <td>1</td>\n",
       "      <td>6</td>\n",
       "      <td>12510.0</td>\n",
       "      <td>4.0</td>\n",
       "      <td>150.0</td>\n",
       "    </tr>\n",
       "    <tr>\n",
       "      <th>...</th>\n",
       "      <td>...</td>\n",
       "      <td>...</td>\n",
       "      <td>...</td>\n",
       "      <td>...</td>\n",
       "      <td>...</td>\n",
       "    </tr>\n",
       "    <tr>\n",
       "      <th>5391</th>\n",
       "      <td>1</td>\n",
       "      <td>7</td>\n",
       "      <td>10000.0</td>\n",
       "      <td>4.0</td>\n",
       "      <td>100.0</td>\n",
       "    </tr>\n",
       "    <tr>\n",
       "      <th>737</th>\n",
       "      <td>1</td>\n",
       "      <td>7</td>\n",
       "      <td>40000.0</td>\n",
       "      <td>9.0</td>\n",
       "      <td>150.0</td>\n",
       "    </tr>\n",
       "    <tr>\n",
       "      <th>5902</th>\n",
       "      <td>1</td>\n",
       "      <td>6</td>\n",
       "      <td>49000.0</td>\n",
       "      <td>14.0</td>\n",
       "      <td>223.0</td>\n",
       "    </tr>\n",
       "    <tr>\n",
       "      <th>1540</th>\n",
       "      <td>1</td>\n",
       "      <td>2</td>\n",
       "      <td>12000.0</td>\n",
       "      <td>9.0</td>\n",
       "      <td>500.0</td>\n",
       "    </tr>\n",
       "    <tr>\n",
       "      <th>1580</th>\n",
       "      <td>1</td>\n",
       "      <td>10</td>\n",
       "      <td>7500.0</td>\n",
       "      <td>4.0</td>\n",
       "      <td>390.0</td>\n",
       "    </tr>\n",
       "  </tbody>\n",
       "</table>\n",
       "<p>5859 rows × 5 columns</p>\n",
       "</div>"
      ],
      "text/plain": [
       "      owner  brand  kms_driven   age  power\n",
       "6330      1      7     33500.0   8.0  180.0\n",
       "8907      1      7       350.0   4.0  200.0\n",
       "5573      1      7     37000.0   8.0  100.0\n",
       "9079      1      6     28000.0   9.0  100.0\n",
       "2700      1      6     12510.0   4.0  150.0\n",
       "...     ...    ...         ...   ...    ...\n",
       "5391      1      7     10000.0   4.0  100.0\n",
       "737       1      7     40000.0   9.0  150.0\n",
       "5902      1      6     49000.0  14.0  223.0\n",
       "1540      1      2     12000.0   9.0  500.0\n",
       "1580      1     10      7500.0   4.0  390.0\n",
       "\n",
       "[5859 rows x 5 columns]"
      ]
     },
     "execution_count": 36,
     "metadata": {},
     "output_type": "execute_result"
    }
   ],
   "source": [
    "x_train"
   ]
  },
  {
   "cell_type": "code",
   "execution_count": 38,
   "id": "b3cbae59",
   "metadata": {},
   "outputs": [],
   "source": [
    "from sklearn.linear_model import LinearRegression"
   ]
  },
  {
   "cell_type": "code",
   "execution_count": 39,
   "id": "7e81ca08",
   "metadata": {},
   "outputs": [],
   "source": [
    "lr = LinearRegression()"
   ]
  },
  {
   "cell_type": "code",
   "execution_count": 40,
   "id": "d8f49831",
   "metadata": {},
   "outputs": [
    {
     "data": {
      "text/plain": [
       "LinearRegression()"
      ]
     },
     "execution_count": 40,
     "metadata": {},
     "output_type": "execute_result"
    }
   ],
   "source": [
    "lr.fit(x_train,y_train)     "
   ]
  },
  {
   "cell_type": "code",
   "execution_count": 42,
   "id": "98f91176",
   "metadata": {},
   "outputs": [
    {
     "data": {
      "text/plain": [
       "0.7208202021779007"
      ]
     },
     "execution_count": 42,
     "metadata": {},
     "output_type": "execute_result"
    }
   ],
   "source": [
    "lr.score(x_train,y_train)    "
   ]
  },
  {
   "cell_type": "code",
   "execution_count": 43,
   "id": "0cb905bf",
   "metadata": {},
   "outputs": [
    {
     "data": {
      "text/plain": [
       "0.7168144308675242"
      ]
     },
     "execution_count": 43,
     "metadata": {},
     "output_type": "execute_result"
    }
   ],
   "source": [
    "lr.score(x_test,y_test)"
   ]
  },
  {
   "cell_type": "code",
   "execution_count": 46,
   "id": "017fe196",
   "metadata": {},
   "outputs": [],
   "source": [
    "prediction = lr.predict(x_test)"
   ]
  },
  {
   "cell_type": "code",
   "execution_count": 49,
   "id": "9e2c64af",
   "metadata": {},
   "outputs": [],
   "source": [
    "y_test['predicted_price'] = prediction"
   ]
  },
  {
   "cell_type": "code",
   "execution_count": 50,
   "id": "a061afdb",
   "metadata": {},
   "outputs": [
    {
     "data": {
      "text/html": [
       "<div>\n",
       "<style scoped>\n",
       "    .dataframe tbody tr th:only-of-type {\n",
       "        vertical-align: middle;\n",
       "    }\n",
       "\n",
       "    .dataframe tbody tr th {\n",
       "        vertical-align: top;\n",
       "    }\n",
       "\n",
       "    .dataframe thead th {\n",
       "        text-align: right;\n",
       "    }\n",
       "</style>\n",
       "<table border=\"1\" class=\"dataframe\">\n",
       "  <thead>\n",
       "    <tr style=\"text-align: right;\">\n",
       "      <th></th>\n",
       "      <th>price</th>\n",
       "      <th>predicted_price</th>\n",
       "    </tr>\n",
       "  </thead>\n",
       "  <tbody>\n",
       "    <tr>\n",
       "      <th>4976</th>\n",
       "      <td>32000.0</td>\n",
       "      <td>16261.843411</td>\n",
       "    </tr>\n",
       "    <tr>\n",
       "      <th>4627</th>\n",
       "      <td>104100.0</td>\n",
       "      <td>193342.449099</td>\n",
       "    </tr>\n",
       "    <tr>\n",
       "      <th>2449</th>\n",
       "      <td>43100.0</td>\n",
       "      <td>25773.196192</td>\n",
       "    </tr>\n",
       "    <tr>\n",
       "      <th>2863</th>\n",
       "      <td>14000.0</td>\n",
       "      <td>32384.337942</td>\n",
       "    </tr>\n",
       "    <tr>\n",
       "      <th>8401</th>\n",
       "      <td>1100000.0</td>\n",
       "      <td>587849.672537</td>\n",
       "    </tr>\n",
       "    <tr>\n",
       "      <th>...</th>\n",
       "      <td>...</td>\n",
       "      <td>...</td>\n",
       "    </tr>\n",
       "    <tr>\n",
       "      <th>6155</th>\n",
       "      <td>100000.0</td>\n",
       "      <td>134655.926132</td>\n",
       "    </tr>\n",
       "    <tr>\n",
       "      <th>5168</th>\n",
       "      <td>82500.0</td>\n",
       "      <td>85796.171827</td>\n",
       "    </tr>\n",
       "    <tr>\n",
       "      <th>2691</th>\n",
       "      <td>63000.0</td>\n",
       "      <td>119596.381697</td>\n",
       "    </tr>\n",
       "    <tr>\n",
       "      <th>4061</th>\n",
       "      <td>28000.0</td>\n",
       "      <td>15252.576128</td>\n",
       "    </tr>\n",
       "    <tr>\n",
       "      <th>6887</th>\n",
       "      <td>19786.0</td>\n",
       "      <td>43418.548793</td>\n",
       "    </tr>\n",
       "  </tbody>\n",
       "</table>\n",
       "<p>1465 rows × 2 columns</p>\n",
       "</div>"
      ],
      "text/plain": [
       "          price  predicted_price\n",
       "4976    32000.0     16261.843411\n",
       "4627   104100.0    193342.449099\n",
       "2449    43100.0     25773.196192\n",
       "2863    14000.0     32384.337942\n",
       "8401  1100000.0    587849.672537\n",
       "...         ...              ...\n",
       "6155   100000.0    134655.926132\n",
       "5168    82500.0     85796.171827\n",
       "2691    63000.0    119596.381697\n",
       "4061    28000.0     15252.576128\n",
       "6887    19786.0     43418.548793\n",
       "\n",
       "[1465 rows x 2 columns]"
      ]
     },
     "execution_count": 50,
     "metadata": {},
     "output_type": "execute_result"
    }
   ],
   "source": [
    "y_test"
   ]
  },
  {
   "cell_type": "code",
   "execution_count": 53,
   "id": "a94c3fa6",
   "metadata": {},
   "outputs": [],
   "source": [
    "y_test['difference'] = y_test['price']-y_test['predicted_price']"
   ]
  },
  {
   "cell_type": "code",
   "execution_count": 54,
   "id": "d5ba4cc2",
   "metadata": {},
   "outputs": [
    {
     "data": {
      "text/html": [
       "<div>\n",
       "<style scoped>\n",
       "    .dataframe tbody tr th:only-of-type {\n",
       "        vertical-align: middle;\n",
       "    }\n",
       "\n",
       "    .dataframe tbody tr th {\n",
       "        vertical-align: top;\n",
       "    }\n",
       "\n",
       "    .dataframe thead th {\n",
       "        text-align: right;\n",
       "    }\n",
       "</style>\n",
       "<table border=\"1\" class=\"dataframe\">\n",
       "  <thead>\n",
       "    <tr style=\"text-align: right;\">\n",
       "      <th></th>\n",
       "      <th>price</th>\n",
       "      <th>predicted_price</th>\n",
       "      <th>difference</th>\n",
       "    </tr>\n",
       "  </thead>\n",
       "  <tbody>\n",
       "    <tr>\n",
       "      <th>4976</th>\n",
       "      <td>32000.0</td>\n",
       "      <td>16261.843411</td>\n",
       "      <td>15738.156589</td>\n",
       "    </tr>\n",
       "    <tr>\n",
       "      <th>4627</th>\n",
       "      <td>104100.0</td>\n",
       "      <td>193342.449099</td>\n",
       "      <td>-89242.449099</td>\n",
       "    </tr>\n",
       "    <tr>\n",
       "      <th>2449</th>\n",
       "      <td>43100.0</td>\n",
       "      <td>25773.196192</td>\n",
       "      <td>17326.803808</td>\n",
       "    </tr>\n",
       "    <tr>\n",
       "      <th>2863</th>\n",
       "      <td>14000.0</td>\n",
       "      <td>32384.337942</td>\n",
       "      <td>-18384.337942</td>\n",
       "    </tr>\n",
       "    <tr>\n",
       "      <th>8401</th>\n",
       "      <td>1100000.0</td>\n",
       "      <td>587849.672537</td>\n",
       "      <td>512150.327463</td>\n",
       "    </tr>\n",
       "    <tr>\n",
       "      <th>...</th>\n",
       "      <td>...</td>\n",
       "      <td>...</td>\n",
       "      <td>...</td>\n",
       "    </tr>\n",
       "    <tr>\n",
       "      <th>6155</th>\n",
       "      <td>100000.0</td>\n",
       "      <td>134655.926132</td>\n",
       "      <td>-34655.926132</td>\n",
       "    </tr>\n",
       "    <tr>\n",
       "      <th>5168</th>\n",
       "      <td>82500.0</td>\n",
       "      <td>85796.171827</td>\n",
       "      <td>-3296.171827</td>\n",
       "    </tr>\n",
       "    <tr>\n",
       "      <th>2691</th>\n",
       "      <td>63000.0</td>\n",
       "      <td>119596.381697</td>\n",
       "      <td>-56596.381697</td>\n",
       "    </tr>\n",
       "    <tr>\n",
       "      <th>4061</th>\n",
       "      <td>28000.0</td>\n",
       "      <td>15252.576128</td>\n",
       "      <td>12747.423872</td>\n",
       "    </tr>\n",
       "    <tr>\n",
       "      <th>6887</th>\n",
       "      <td>19786.0</td>\n",
       "      <td>43418.548793</td>\n",
       "      <td>-23632.548793</td>\n",
       "    </tr>\n",
       "  </tbody>\n",
       "</table>\n",
       "<p>1465 rows × 3 columns</p>\n",
       "</div>"
      ],
      "text/plain": [
       "          price  predicted_price     difference\n",
       "4976    32000.0     16261.843411   15738.156589\n",
       "4627   104100.0    193342.449099  -89242.449099\n",
       "2449    43100.0     25773.196192   17326.803808\n",
       "2863    14000.0     32384.337942  -18384.337942\n",
       "8401  1100000.0    587849.672537  512150.327463\n",
       "...         ...              ...            ...\n",
       "6155   100000.0    134655.926132  -34655.926132\n",
       "5168    82500.0     85796.171827   -3296.171827\n",
       "2691    63000.0    119596.381697  -56596.381697\n",
       "4061    28000.0     15252.576128   12747.423872\n",
       "6887    19786.0     43418.548793  -23632.548793\n",
       "\n",
       "[1465 rows x 3 columns]"
      ]
     },
     "execution_count": 54,
     "metadata": {},
     "output_type": "execute_result"
    }
   ],
   "source": [
    "y_test"
   ]
  },
  {
   "cell_type": "code",
   "execution_count": 57,
   "id": "6dd986ce",
   "metadata": {},
   "outputs": [],
   "source": [
    "from sklearn.metrics import mean_squared_error,mean_absolute_error"
   ]
  },
  {
   "cell_type": "code",
   "execution_count": 56,
   "id": "d12d7e1a",
   "metadata": {},
   "outputs": [
    {
     "data": {
      "text/plain": [
       "5036928915.516507"
      ]
     },
     "execution_count": 56,
     "metadata": {},
     "output_type": "execute_result"
    }
   ],
   "source": [
    "mean_squared_error(y_test['price'],y_test['predicted_price'])\n",
    "#mean_sq_error should be low as much as possible"
   ]
  },
  {
   "cell_type": "code",
   "execution_count": 58,
   "id": "61085968",
   "metadata": {},
   "outputs": [
    {
     "data": {
      "text/plain": [
       "34301.96345254055"
      ]
     },
     "execution_count": 58,
     "metadata": {},
     "output_type": "execute_result"
    }
   ],
   "source": [
    "mean_absolute_error(y_test['price'],y_test['predicted_price'])"
   ]
  },
  {
   "cell_type": "code",
   "execution_count": 59,
   "id": "91c60bb9",
   "metadata": {},
   "outputs": [],
   "source": [
    "import numpy as np"
   ]
  },
  {
   "cell_type": "code",
   "execution_count": 60,
   "id": "666de852",
   "metadata": {},
   "outputs": [
    {
     "data": {
      "text/plain": [
       "5036928915.516507"
      ]
     },
     "execution_count": 60,
     "metadata": {},
     "output_type": "execute_result"
    }
   ],
   "source": [
    "mse = mean_squared_error(y_test['price'],y_test['predicted_price'])\n",
    "mse"
   ]
  },
  {
   "cell_type": "code",
   "execution_count": 61,
   "id": "35f0c583",
   "metadata": {},
   "outputs": [
    {
     "data": {
      "text/plain": [
       "70971.32460026731"
      ]
     },
     "execution_count": 61,
     "metadata": {},
     "output_type": "execute_result"
    }
   ],
   "source": [
    "np.sqrt(mse)     "
   ]
  },
  {
   "cell_type": "code",
   "execution_count": 64,
   "id": "34f4f0af",
   "metadata": {},
   "outputs": [],
   "source": [
    "from sklearn.metrics import r2_score"
   ]
  },
  {
   "cell_type": "code",
   "execution_count": 65,
   "id": "ad6db464",
   "metadata": {},
   "outputs": [
    {
     "data": {
      "text/plain": [
       "0.7168144308675242"
      ]
     },
     "execution_count": 65,
     "metadata": {},
     "output_type": "execute_result"
    }
   ],
   "source": [
    "r2_score(y_test['price'],y_test['predicted_price'])"
   ]
  },
  {
   "cell_type": "code",
   "execution_count": 66,
   "id": "dafc3b6c",
   "metadata": {},
   "outputs": [
    {
     "data": {
      "text/plain": [
       "1465"
      ]
     },
     "execution_count": 66,
     "metadata": {},
     "output_type": "execute_result"
    }
   ],
   "source": [
    "y_test.shape[0]"
   ]
  },
  {
   "cell_type": "code",
   "execution_count": 67,
   "id": "f9fe09ce",
   "metadata": {},
   "outputs": [
    {
     "data": {
      "text/plain": [
       "(1465, 5)"
      ]
     },
     "execution_count": 67,
     "metadata": {},
     "output_type": "execute_result"
    }
   ],
   "source": [
    "x_test.shape"
   ]
  },
  {
   "cell_type": "code",
   "execution_count": 70,
   "id": "34b54d08",
   "metadata": {},
   "outputs": [],
   "source": [
    "loss = (1-0.7168144308675242)*(1465-1)/(1465-5-1)     #(1-r^2)(n-1)/(n-p-1)"
   ]
  },
  {
   "cell_type": "code",
   "execution_count": 71,
   "id": "3bbce077",
   "metadata": {},
   "outputs": [
    {
     "data": {
      "text/plain": [
       "0.7158439525634376"
      ]
     },
     "execution_count": 71,
     "metadata": {},
     "output_type": "execute_result"
    }
   ],
   "source": [
    "1-loss"
   ]
  },
  {
   "cell_type": "code",
   "execution_count": 72,
   "id": "6ae2c693",
   "metadata": {},
   "outputs": [],
   "source": [
    "import joblib       "
   ]
  },
  {
   "cell_type": "code",
   "execution_count": 78,
   "id": "65dacaaf",
   "metadata": {},
   "outputs": [
    {
     "data": {
      "text/plain": [
       "['linear_regression_model.lb']"
      ]
     },
     "execution_count": 78,
     "metadata": {},
     "output_type": "execute_result"
    }
   ],
   "source": [
    "joblib.dump(lr,'linear_regression_model.lb')"
   ]
  }
 ],
 "metadata": {
  "kernelspec": {
   "display_name": "Python 3 (ipykernel)",
   "language": "python",
   "name": "python3"
  },
  "language_info": {
   "codemirror_mode": {
    "name": "ipython",
    "version": 3
   },
   "file_extension": ".py",
   "mimetype": "text/x-python",
   "name": "python",
   "nbconvert_exporter": "python",
   "pygments_lexer": "ipython3",
   "version": "3.9.13"
  }
 },
 "nbformat": 4,
 "nbformat_minor": 5
}
