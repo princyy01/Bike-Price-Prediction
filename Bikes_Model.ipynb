{
 "cells": [
  {
   "cell_type": "code",
   "execution_count": 113,
   "id": "20b0b767-3529-47c9-ac58-ca9f87873925",
   "metadata": {},
   "outputs": [],
   "source": [
    "import warnings\n",
    "warnings.filterwarnings('ignore')\n",
    "import pandas as pd\n",
    "import numpy as np"
   ]
  },
  {
   "cell_type": "code",
   "execution_count": 114,
   "id": "fc623dbf-e79b-4b75-b196-48bb1b304297",
   "metadata": {},
   "outputs": [],
   "source": [
    "df = pd.read_csv('Used_Bikes.csv')"
   ]
  },
  {
   "cell_type": "code",
   "execution_count": 115,
   "id": "87c45534-23e1-4db2-9a60-3293b8a12565",
   "metadata": {},
   "outputs": [
    {
     "data": {
      "text/html": [
       "<div>\n",
       "<style scoped>\n",
       "    .dataframe tbody tr th:only-of-type {\n",
       "        vertical-align: middle;\n",
       "    }\n",
       "\n",
       "    .dataframe tbody tr th {\n",
       "        vertical-align: top;\n",
       "    }\n",
       "\n",
       "    .dataframe thead th {\n",
       "        text-align: right;\n",
       "    }\n",
       "</style>\n",
       "<table border=\"1\" class=\"dataframe\">\n",
       "  <thead>\n",
       "    <tr style=\"text-align: right;\">\n",
       "      <th></th>\n",
       "      <th>bike_name</th>\n",
       "      <th>price</th>\n",
       "      <th>city</th>\n",
       "      <th>kms_driven</th>\n",
       "      <th>owner</th>\n",
       "      <th>age</th>\n",
       "      <th>power</th>\n",
       "      <th>brand</th>\n",
       "    </tr>\n",
       "  </thead>\n",
       "  <tbody>\n",
       "    <tr>\n",
       "      <th>0</th>\n",
       "      <td>TVS Star City Plus Dual Tone 110cc</td>\n",
       "      <td>35000.0</td>\n",
       "      <td>Ahmedabad</td>\n",
       "      <td>17654.0</td>\n",
       "      <td>First Owner</td>\n",
       "      <td>3.0</td>\n",
       "      <td>110.0</td>\n",
       "      <td>TVS</td>\n",
       "    </tr>\n",
       "    <tr>\n",
       "      <th>1</th>\n",
       "      <td>Royal Enfield Classic 350cc</td>\n",
       "      <td>119900.0</td>\n",
       "      <td>Delhi</td>\n",
       "      <td>11000.0</td>\n",
       "      <td>First Owner</td>\n",
       "      <td>4.0</td>\n",
       "      <td>350.0</td>\n",
       "      <td>Royal Enfield</td>\n",
       "    </tr>\n",
       "    <tr>\n",
       "      <th>2</th>\n",
       "      <td>Triumph Daytona 675R</td>\n",
       "      <td>600000.0</td>\n",
       "      <td>Delhi</td>\n",
       "      <td>110.0</td>\n",
       "      <td>First Owner</td>\n",
       "      <td>8.0</td>\n",
       "      <td>675.0</td>\n",
       "      <td>Triumph</td>\n",
       "    </tr>\n",
       "    <tr>\n",
       "      <th>3</th>\n",
       "      <td>TVS Apache RTR 180cc</td>\n",
       "      <td>65000.0</td>\n",
       "      <td>Bangalore</td>\n",
       "      <td>16329.0</td>\n",
       "      <td>First Owner</td>\n",
       "      <td>4.0</td>\n",
       "      <td>180.0</td>\n",
       "      <td>TVS</td>\n",
       "    </tr>\n",
       "    <tr>\n",
       "      <th>4</th>\n",
       "      <td>Yamaha FZ S V 2.0 150cc-Ltd. Edition</td>\n",
       "      <td>80000.0</td>\n",
       "      <td>Bangalore</td>\n",
       "      <td>10000.0</td>\n",
       "      <td>First Owner</td>\n",
       "      <td>3.0</td>\n",
       "      <td>150.0</td>\n",
       "      <td>Yamaha</td>\n",
       "    </tr>\n",
       "  </tbody>\n",
       "</table>\n",
       "</div>"
      ],
      "text/plain": [
       "                              bike_name     price       city  kms_driven  \\\n",
       "0    TVS Star City Plus Dual Tone 110cc   35000.0  Ahmedabad     17654.0   \n",
       "1           Royal Enfield Classic 350cc  119900.0      Delhi     11000.0   \n",
       "2                  Triumph Daytona 675R  600000.0      Delhi       110.0   \n",
       "3                  TVS Apache RTR 180cc   65000.0  Bangalore     16329.0   \n",
       "4  Yamaha FZ S V 2.0 150cc-Ltd. Edition   80000.0  Bangalore     10000.0   \n",
       "\n",
       "         owner  age  power          brand  \n",
       "0  First Owner  3.0  110.0            TVS  \n",
       "1  First Owner  4.0  350.0  Royal Enfield  \n",
       "2  First Owner  8.0  675.0        Triumph  \n",
       "3  First Owner  4.0  180.0            TVS  \n",
       "4  First Owner  3.0  150.0         Yamaha  "
      ]
     },
     "execution_count": 115,
     "metadata": {},
     "output_type": "execute_result"
    }
   ],
   "source": [
    "df.head()"
   ]
  },
  {
   "cell_type": "code",
   "execution_count": 116,
   "id": "fe0eca43-3716-4803-b5c0-13197f63fdee",
   "metadata": {},
   "outputs": [
    {
     "data": {
      "text/plain": [
       "bike_name     0\n",
       "price         0\n",
       "city          0\n",
       "kms_driven    0\n",
       "owner         0\n",
       "age           0\n",
       "power         0\n",
       "brand         0\n",
       "dtype: int64"
      ]
     },
     "execution_count": 116,
     "metadata": {},
     "output_type": "execute_result"
    }
   ],
   "source": [
    "df.isnull().sum()"
   ]
  },
  {
   "cell_type": "code",
   "execution_count": 117,
   "id": "9151c379-c4ba-4082-b6f9-b029b88f9c12",
   "metadata": {},
   "outputs": [
    {
     "data": {
      "text/plain": [
       "25324"
      ]
     },
     "execution_count": 117,
     "metadata": {},
     "output_type": "execute_result"
    }
   ],
   "source": [
    "df.duplicated().sum()"
   ]
  },
  {
   "cell_type": "code",
   "execution_count": 118,
   "id": "53867809-c779-41a8-911b-5acd09f97411",
   "metadata": {},
   "outputs": [],
   "source": [
    "df.drop_duplicates(inplace=True)"
   ]
  },
  {
   "cell_type": "code",
   "execution_count": 119,
   "id": "e777ca1f-80e0-4259-83da-caddbfb654ce",
   "metadata": {},
   "outputs": [
    {
     "data": {
      "text/plain": [
       "bike_name      object\n",
       "price         float64\n",
       "city           object\n",
       "kms_driven    float64\n",
       "owner          object\n",
       "age           float64\n",
       "power         float64\n",
       "brand          object\n",
       "dtype: object"
      ]
     },
     "execution_count": 119,
     "metadata": {},
     "output_type": "execute_result"
    }
   ],
   "source": [
    "df.dtypes"
   ]
  },
  {
   "cell_type": "code",
   "execution_count": 120,
   "id": "6dc4f76d-fb17-4579-8229-b43a126345d5",
   "metadata": {},
   "outputs": [
    {
     "data": {
      "text/html": [
       "<div>\n",
       "<style scoped>\n",
       "    .dataframe tbody tr th:only-of-type {\n",
       "        vertical-align: middle;\n",
       "    }\n",
       "\n",
       "    .dataframe tbody tr th {\n",
       "        vertical-align: top;\n",
       "    }\n",
       "\n",
       "    .dataframe thead th {\n",
       "        text-align: right;\n",
       "    }\n",
       "</style>\n",
       "<table border=\"1\" class=\"dataframe\">\n",
       "  <thead>\n",
       "    <tr style=\"text-align: right;\">\n",
       "      <th></th>\n",
       "      <th>bike_name</th>\n",
       "      <th>city</th>\n",
       "      <th>owner</th>\n",
       "      <th>brand</th>\n",
       "    </tr>\n",
       "  </thead>\n",
       "  <tbody>\n",
       "    <tr>\n",
       "      <th>0</th>\n",
       "      <td>TVS Star City Plus Dual Tone 110cc</td>\n",
       "      <td>Ahmedabad</td>\n",
       "      <td>First Owner</td>\n",
       "      <td>TVS</td>\n",
       "    </tr>\n",
       "    <tr>\n",
       "      <th>1</th>\n",
       "      <td>Royal Enfield Classic 350cc</td>\n",
       "      <td>Delhi</td>\n",
       "      <td>First Owner</td>\n",
       "      <td>Royal Enfield</td>\n",
       "    </tr>\n",
       "    <tr>\n",
       "      <th>2</th>\n",
       "      <td>Triumph Daytona 675R</td>\n",
       "      <td>Delhi</td>\n",
       "      <td>First Owner</td>\n",
       "      <td>Triumph</td>\n",
       "    </tr>\n",
       "    <tr>\n",
       "      <th>3</th>\n",
       "      <td>TVS Apache RTR 180cc</td>\n",
       "      <td>Bangalore</td>\n",
       "      <td>First Owner</td>\n",
       "      <td>TVS</td>\n",
       "    </tr>\n",
       "    <tr>\n",
       "      <th>4</th>\n",
       "      <td>Yamaha FZ S V 2.0 150cc-Ltd. Edition</td>\n",
       "      <td>Bangalore</td>\n",
       "      <td>First Owner</td>\n",
       "      <td>Yamaha</td>\n",
       "    </tr>\n",
       "  </tbody>\n",
       "</table>\n",
       "</div>"
      ],
      "text/plain": [
       "                              bike_name       city        owner          brand\n",
       "0    TVS Star City Plus Dual Tone 110cc  Ahmedabad  First Owner            TVS\n",
       "1           Royal Enfield Classic 350cc      Delhi  First Owner  Royal Enfield\n",
       "2                  Triumph Daytona 675R      Delhi  First Owner        Triumph\n",
       "3                  TVS Apache RTR 180cc  Bangalore  First Owner            TVS\n",
       "4  Yamaha FZ S V 2.0 150cc-Ltd. Edition  Bangalore  First Owner         Yamaha"
      ]
     },
     "execution_count": 120,
     "metadata": {},
     "output_type": "execute_result"
    }
   ],
   "source": [
    "cat_cols = df.select_dtypes(include='O')\n",
    "cat_cols.head()"
   ]
  },
  {
   "cell_type": "code",
   "execution_count": 121,
   "id": "a0140e8c-ff4a-4773-8add-0f2ca257e1fc",
   "metadata": {},
   "outputs": [
    {
     "data": {
      "text/html": [
       "<div>\n",
       "<style scoped>\n",
       "    .dataframe tbody tr th:only-of-type {\n",
       "        vertical-align: middle;\n",
       "    }\n",
       "\n",
       "    .dataframe tbody tr th {\n",
       "        vertical-align: top;\n",
       "    }\n",
       "\n",
       "    .dataframe thead th {\n",
       "        text-align: right;\n",
       "    }\n",
       "</style>\n",
       "<table border=\"1\" class=\"dataframe\">\n",
       "  <thead>\n",
       "    <tr style=\"text-align: right;\">\n",
       "      <th></th>\n",
       "      <th>price</th>\n",
       "      <th>kms_driven</th>\n",
       "      <th>age</th>\n",
       "      <th>power</th>\n",
       "    </tr>\n",
       "  </thead>\n",
       "  <tbody>\n",
       "    <tr>\n",
       "      <th>0</th>\n",
       "      <td>35000.0</td>\n",
       "      <td>17654.0</td>\n",
       "      <td>3.0</td>\n",
       "      <td>110.0</td>\n",
       "    </tr>\n",
       "    <tr>\n",
       "      <th>1</th>\n",
       "      <td>119900.0</td>\n",
       "      <td>11000.0</td>\n",
       "      <td>4.0</td>\n",
       "      <td>350.0</td>\n",
       "    </tr>\n",
       "    <tr>\n",
       "      <th>2</th>\n",
       "      <td>600000.0</td>\n",
       "      <td>110.0</td>\n",
       "      <td>8.0</td>\n",
       "      <td>675.0</td>\n",
       "    </tr>\n",
       "    <tr>\n",
       "      <th>3</th>\n",
       "      <td>65000.0</td>\n",
       "      <td>16329.0</td>\n",
       "      <td>4.0</td>\n",
       "      <td>180.0</td>\n",
       "    </tr>\n",
       "    <tr>\n",
       "      <th>4</th>\n",
       "      <td>80000.0</td>\n",
       "      <td>10000.0</td>\n",
       "      <td>3.0</td>\n",
       "      <td>150.0</td>\n",
       "    </tr>\n",
       "  </tbody>\n",
       "</table>\n",
       "</div>"
      ],
      "text/plain": [
       "      price  kms_driven  age  power\n",
       "0   35000.0     17654.0  3.0  110.0\n",
       "1  119900.0     11000.0  4.0  350.0\n",
       "2  600000.0       110.0  8.0  675.0\n",
       "3   65000.0     16329.0  4.0  180.0\n",
       "4   80000.0     10000.0  3.0  150.0"
      ]
     },
     "execution_count": 121,
     "metadata": {},
     "output_type": "execute_result"
    }
   ],
   "source": [
    "num_cols = df.select_dtypes(exclude='O')\n",
    "num_cols.head()"
   ]
  },
  {
   "cell_type": "code",
   "execution_count": 122,
   "id": "3113c162-c9b0-4504-af60-b5c39c007bb8",
   "metadata": {},
   "outputs": [
    {
     "data": {
      "text/html": [
       "<div>\n",
       "<style scoped>\n",
       "    .dataframe tbody tr th:only-of-type {\n",
       "        vertical-align: middle;\n",
       "    }\n",
       "\n",
       "    .dataframe tbody tr th {\n",
       "        vertical-align: top;\n",
       "    }\n",
       "\n",
       "    .dataframe thead th {\n",
       "        text-align: right;\n",
       "    }\n",
       "</style>\n",
       "<table border=\"1\" class=\"dataframe\">\n",
       "  <thead>\n",
       "    <tr style=\"text-align: right;\">\n",
       "      <th></th>\n",
       "      <th>owner</th>\n",
       "      <th>brand</th>\n",
       "    </tr>\n",
       "  </thead>\n",
       "  <tbody>\n",
       "    <tr>\n",
       "      <th>0</th>\n",
       "      <td>First Owner</td>\n",
       "      <td>TVS</td>\n",
       "    </tr>\n",
       "    <tr>\n",
       "      <th>1</th>\n",
       "      <td>First Owner</td>\n",
       "      <td>Royal Enfield</td>\n",
       "    </tr>\n",
       "  </tbody>\n",
       "</table>\n",
       "</div>"
      ],
      "text/plain": [
       "         owner          brand\n",
       "0  First Owner            TVS\n",
       "1  First Owner  Royal Enfield"
      ]
     },
     "execution_count": 122,
     "metadata": {},
     "output_type": "execute_result"
    }
   ],
   "source": [
    "cat_cols = cat_cols.drop(['bike_name','city'],axis=1)\n",
    "cat_cols.head(2)"
   ]
  },
  {
   "cell_type": "code",
   "execution_count": 123,
   "id": "f0134ec1-f6af-4755-8bf9-47edabbd3a40",
   "metadata": {},
   "outputs": [
    {
     "data": {
      "text/plain": [
       "owner\n",
       "First Owner             6642\n",
       "Second Owner             588\n",
       "Third Owner               84\n",
       "Fourth Owner Or More      10\n",
       "Name: count, dtype: int64"
      ]
     },
     "execution_count": 123,
     "metadata": {},
     "output_type": "execute_result"
    }
   ],
   "source": [
    "cat_cols['owner'].value_counts()"
   ]
  },
  {
   "cell_type": "code",
   "execution_count": 124,
   "id": "50c3fde7-f2e4-4f9a-86c8-4ddedb30259d",
   "metadata": {},
   "outputs": [
    {
     "data": {
      "text/plain": [
       "{'First Owner': 1,\n",
       " 'Second Owner': 2,\n",
       " 'Third Owner': 3,\n",
       " 'Fourth Owner Or More': 4}"
      ]
     },
     "execution_count": 124,
     "metadata": {},
     "output_type": "execute_result"
    }
   ],
   "source": [
    "dt = {'First Owner':1, 'Second Owner':2, 'Third Owner':3, 'Fourth Owner Or More':4}\n",
    "dt"
   ]
  },
  {
   "cell_type": "code",
   "execution_count": 125,
   "id": "5c27ca89-5472-41d0-a59c-01ed125dd259",
   "metadata": {},
   "outputs": [
    {
     "data": {
      "text/plain": [
       "0       First Owner\n",
       "1       First Owner\n",
       "2       First Owner\n",
       "3       First Owner\n",
       "4       First Owner\n",
       "           ...     \n",
       "9362    First Owner\n",
       "9369    First Owner\n",
       "9370    First Owner\n",
       "9371    First Owner\n",
       "9372    First Owner\n",
       "Name: owner, Length: 7324, dtype: object"
      ]
     },
     "execution_count": 125,
     "metadata": {},
     "output_type": "execute_result"
    }
   ],
   "source": [
    "cat_cols['owner']"
   ]
  },
  {
   "cell_type": "code",
   "execution_count": 126,
   "id": "81efa802-cc3c-4880-b6f9-2c6cf521014b",
   "metadata": {},
   "outputs": [],
   "source": [
    "cat_cols['owner'] = cat_cols['owner'].map(dt)"
   ]
  },
  {
   "cell_type": "code",
   "execution_count": 127,
   "id": "08b9eb07-3216-4392-ab7b-a61cbdc1eff5",
   "metadata": {},
   "outputs": [
    {
     "data": {
      "text/plain": [
       "brand\n",
       "Bajaj              2081\n",
       "Royal Enfield      1346\n",
       "Hero               1142\n",
       "Honda               676\n",
       "Yamaha              651\n",
       "TVS                 481\n",
       "KTM                 375\n",
       "Suzuki              203\n",
       "Harley-Davidson      91\n",
       "Kawasaki             61\n",
       "Hyosung              53\n",
       "Mahindra             50\n",
       "Benelli              46\n",
       "Triumph              21\n",
       "Ducati               20\n",
       "BMW                  10\n",
       "Jawa                  7\n",
       "Indian                3\n",
       "MV                    3\n",
       "Rajdoot               1\n",
       "LML                   1\n",
       "Yezdi                 1\n",
       "Ideal                 1\n",
       "Name: count, dtype: int64"
      ]
     },
     "execution_count": 127,
     "metadata": {},
     "output_type": "execute_result"
    }
   ],
   "source": [
    "cat_cols['brand'].value_counts()"
   ]
  },
  {
   "cell_type": "code",
   "execution_count": 128,
   "id": "ea16bfcd-0f8a-4d3b-9a05-4559a25769d5",
   "metadata": {},
   "outputs": [
    {
     "data": {
      "text/plain": [
       "array(['TVS', 'Royal Enfield', 'Triumph', 'Yamaha', 'Honda', 'Hero',\n",
       "       'Bajaj', 'Suzuki', 'Benelli', 'KTM', 'Mahindra', 'Kawasaki',\n",
       "       'Ducati', 'Hyosung', 'Harley-Davidson', 'Jawa', 'BMW', 'Indian',\n",
       "       'Rajdoot', 'LML', 'Yezdi', 'MV', 'Ideal'], dtype=object)"
      ]
     },
     "execution_count": 128,
     "metadata": {},
     "output_type": "execute_result"
    }
   ],
   "source": [
    "unique_brands = cat_cols['brand'].unique()\n",
    "unique_brands"
   ]
  },
  {
   "cell_type": "code",
   "execution_count": 129,
   "id": "9e24d906-2079-49e8-a0a5-0db50e8e09b0",
   "metadata": {},
   "outputs": [],
   "source": [
    "num=1\n",
    "dt1={}\n",
    "for i in unique_brands:\n",
    "    dt1[i]=num\n",
    "    num+=1"
   ]
  },
  {
   "cell_type": "code",
   "execution_count": 130,
   "id": "98bbe2b3-e5d8-4b20-8749-2af517036963",
   "metadata": {},
   "outputs": [
    {
     "data": {
      "text/plain": [
       "{'TVS': 1,\n",
       " 'Royal Enfield': 2,\n",
       " 'Triumph': 3,\n",
       " 'Yamaha': 4,\n",
       " 'Honda': 5,\n",
       " 'Hero': 6,\n",
       " 'Bajaj': 7,\n",
       " 'Suzuki': 8,\n",
       " 'Benelli': 9,\n",
       " 'KTM': 10,\n",
       " 'Mahindra': 11,\n",
       " 'Kawasaki': 12,\n",
       " 'Ducati': 13,\n",
       " 'Hyosung': 14,\n",
       " 'Harley-Davidson': 15,\n",
       " 'Jawa': 16,\n",
       " 'BMW': 17,\n",
       " 'Indian': 18,\n",
       " 'Rajdoot': 19,\n",
       " 'LML': 20,\n",
       " 'Yezdi': 21,\n",
       " 'MV': 22,\n",
       " 'Ideal': 23}"
      ]
     },
     "execution_count": 130,
     "metadata": {},
     "output_type": "execute_result"
    }
   ],
   "source": [
    "dt1"
   ]
  },
  {
   "cell_type": "code",
   "execution_count": 131,
   "id": "d5c70bd8-17a4-4fc7-9740-a22c25fe895a",
   "metadata": {},
   "outputs": [],
   "source": [
    "cat_cols['brand'] = cat_cols['brand'].map(dt1)"
   ]
  },
  {
   "cell_type": "code",
   "execution_count": 132,
   "id": "c0b2869e-aca3-4535-b663-b9cb0321add7",
   "metadata": {},
   "outputs": [
    {
     "data": {
      "text/html": [
       "<div>\n",
       "<style scoped>\n",
       "    .dataframe tbody tr th:only-of-type {\n",
       "        vertical-align: middle;\n",
       "    }\n",
       "\n",
       "    .dataframe tbody tr th {\n",
       "        vertical-align: top;\n",
       "    }\n",
       "\n",
       "    .dataframe thead th {\n",
       "        text-align: right;\n",
       "    }\n",
       "</style>\n",
       "<table border=\"1\" class=\"dataframe\">\n",
       "  <thead>\n",
       "    <tr style=\"text-align: right;\">\n",
       "      <th></th>\n",
       "      <th>owner</th>\n",
       "      <th>brand</th>\n",
       "    </tr>\n",
       "  </thead>\n",
       "  <tbody>\n",
       "    <tr>\n",
       "      <th>0</th>\n",
       "      <td>1</td>\n",
       "      <td>1</td>\n",
       "    </tr>\n",
       "    <tr>\n",
       "      <th>1</th>\n",
       "      <td>1</td>\n",
       "      <td>2</td>\n",
       "    </tr>\n",
       "    <tr>\n",
       "      <th>2</th>\n",
       "      <td>1</td>\n",
       "      <td>3</td>\n",
       "    </tr>\n",
       "    <tr>\n",
       "      <th>3</th>\n",
       "      <td>1</td>\n",
       "      <td>1</td>\n",
       "    </tr>\n",
       "    <tr>\n",
       "      <th>4</th>\n",
       "      <td>1</td>\n",
       "      <td>4</td>\n",
       "    </tr>\n",
       "    <tr>\n",
       "      <th>...</th>\n",
       "      <td>...</td>\n",
       "      <td>...</td>\n",
       "    </tr>\n",
       "    <tr>\n",
       "      <th>9362</th>\n",
       "      <td>1</td>\n",
       "      <td>6</td>\n",
       "    </tr>\n",
       "    <tr>\n",
       "      <th>9369</th>\n",
       "      <td>1</td>\n",
       "      <td>7</td>\n",
       "    </tr>\n",
       "    <tr>\n",
       "      <th>9370</th>\n",
       "      <td>1</td>\n",
       "      <td>15</td>\n",
       "    </tr>\n",
       "    <tr>\n",
       "      <th>9371</th>\n",
       "      <td>1</td>\n",
       "      <td>7</td>\n",
       "    </tr>\n",
       "    <tr>\n",
       "      <th>9372</th>\n",
       "      <td>1</td>\n",
       "      <td>7</td>\n",
       "    </tr>\n",
       "  </tbody>\n",
       "</table>\n",
       "<p>7324 rows × 2 columns</p>\n",
       "</div>"
      ],
      "text/plain": [
       "      owner  brand\n",
       "0         1      1\n",
       "1         1      2\n",
       "2         1      3\n",
       "3         1      1\n",
       "4         1      4\n",
       "...     ...    ...\n",
       "9362      1      6\n",
       "9369      1      7\n",
       "9370      1     15\n",
       "9371      1      7\n",
       "9372      1      7\n",
       "\n",
       "[7324 rows x 2 columns]"
      ]
     },
     "execution_count": 132,
     "metadata": {},
     "output_type": "execute_result"
    }
   ],
   "source": [
    "cat_cols"
   ]
  },
  {
   "cell_type": "code",
   "execution_count": 140,
   "id": "248191e5-28ec-49c1-9cea-e4ddd3eba550",
   "metadata": {},
   "outputs": [
    {
     "data": {
      "text/html": [
       "<div>\n",
       "<style scoped>\n",
       "    .dataframe tbody tr th:only-of-type {\n",
       "        vertical-align: middle;\n",
       "    }\n",
       "\n",
       "    .dataframe tbody tr th {\n",
       "        vertical-align: top;\n",
       "    }\n",
       "\n",
       "    .dataframe thead th {\n",
       "        text-align: right;\n",
       "    }\n",
       "</style>\n",
       "<table border=\"1\" class=\"dataframe\">\n",
       "  <thead>\n",
       "    <tr style=\"text-align: right;\">\n",
       "      <th></th>\n",
       "      <th>owner</th>\n",
       "      <th>brand</th>\n",
       "      <th>price</th>\n",
       "      <th>kms_driven</th>\n",
       "      <th>age</th>\n",
       "      <th>power</th>\n",
       "    </tr>\n",
       "  </thead>\n",
       "  <tbody>\n",
       "    <tr>\n",
       "      <th>0</th>\n",
       "      <td>1</td>\n",
       "      <td>1</td>\n",
       "      <td>35000.0</td>\n",
       "      <td>17654.0</td>\n",
       "      <td>3.0</td>\n",
       "      <td>110.0</td>\n",
       "    </tr>\n",
       "    <tr>\n",
       "      <th>1</th>\n",
       "      <td>1</td>\n",
       "      <td>2</td>\n",
       "      <td>119900.0</td>\n",
       "      <td>11000.0</td>\n",
       "      <td>4.0</td>\n",
       "      <td>350.0</td>\n",
       "    </tr>\n",
       "    <tr>\n",
       "      <th>2</th>\n",
       "      <td>1</td>\n",
       "      <td>3</td>\n",
       "      <td>600000.0</td>\n",
       "      <td>110.0</td>\n",
       "      <td>8.0</td>\n",
       "      <td>675.0</td>\n",
       "    </tr>\n",
       "    <tr>\n",
       "      <th>3</th>\n",
       "      <td>1</td>\n",
       "      <td>1</td>\n",
       "      <td>65000.0</td>\n",
       "      <td>16329.0</td>\n",
       "      <td>4.0</td>\n",
       "      <td>180.0</td>\n",
       "    </tr>\n",
       "    <tr>\n",
       "      <th>4</th>\n",
       "      <td>1</td>\n",
       "      <td>4</td>\n",
       "      <td>80000.0</td>\n",
       "      <td>10000.0</td>\n",
       "      <td>3.0</td>\n",
       "      <td>150.0</td>\n",
       "    </tr>\n",
       "  </tbody>\n",
       "</table>\n",
       "</div>"
      ],
      "text/plain": [
       "   owner  brand     price  kms_driven  age  power\n",
       "0      1      1   35000.0     17654.0  3.0  110.0\n",
       "1      1      2  119900.0     11000.0  4.0  350.0\n",
       "2      1      3  600000.0       110.0  8.0  675.0\n",
       "3      1      1   65000.0     16329.0  4.0  180.0\n",
       "4      1      4   80000.0     10000.0  3.0  150.0"
      ]
     },
     "execution_count": 140,
     "metadata": {},
     "output_type": "execute_result"
    }
   ],
   "source": [
    "df2 = pd.concat([cat_cols,num_cols],axis=1)\n",
    "df2.head()"
   ]
  },
  {
   "cell_type": "code",
   "execution_count": 144,
   "id": "55aa481f-8ad6-4959-8cdd-119c526eb0af",
   "metadata": {},
   "outputs": [],
   "source": [
    "x = df2.drop('price',axis=1)\n",
    "y=df2[['price']]"
   ]
  },
  {
   "cell_type": "code",
   "execution_count": 147,
   "id": "35564e1c-85b2-4988-a085-8d401dadab33",
   "metadata": {},
   "outputs": [],
   "source": [
    "from sklearn.model_selection import train_test_split"
   ]
  },
  {
   "cell_type": "code",
   "execution_count": 148,
   "id": "1951b606-35c1-42fd-9471-014f15a1df5e",
   "metadata": {},
   "outputs": [],
   "source": [
    "x_train, x_test, y_train, y_test = train_test_split(x, y, test_size=0.2)"
   ]
  },
  {
   "cell_type": "code",
   "execution_count": 152,
   "id": "371342f0-a9cd-4136-b25b-cb6aa336608b",
   "metadata": {},
   "outputs": [
    {
     "data": {
      "text/html": [
       "<div>\n",
       "<style scoped>\n",
       "    .dataframe tbody tr th:only-of-type {\n",
       "        vertical-align: middle;\n",
       "    }\n",
       "\n",
       "    .dataframe tbody tr th {\n",
       "        vertical-align: top;\n",
       "    }\n",
       "\n",
       "    .dataframe thead th {\n",
       "        text-align: right;\n",
       "    }\n",
       "</style>\n",
       "<table border=\"1\" class=\"dataframe\">\n",
       "  <thead>\n",
       "    <tr style=\"text-align: right;\">\n",
       "      <th></th>\n",
       "      <th>owner</th>\n",
       "      <th>brand</th>\n",
       "      <th>kms_driven</th>\n",
       "      <th>age</th>\n",
       "      <th>power</th>\n",
       "    </tr>\n",
       "  </thead>\n",
       "  <tbody>\n",
       "    <tr>\n",
       "      <th>4859</th>\n",
       "      <td>1</td>\n",
       "      <td>4</td>\n",
       "      <td>24000.0</td>\n",
       "      <td>9.0</td>\n",
       "      <td>150.0</td>\n",
       "    </tr>\n",
       "    <tr>\n",
       "      <th>1819</th>\n",
       "      <td>1</td>\n",
       "      <td>7</td>\n",
       "      <td>12193.0</td>\n",
       "      <td>2.0</td>\n",
       "      <td>100.0</td>\n",
       "    </tr>\n",
       "    <tr>\n",
       "      <th>2050</th>\n",
       "      <td>1</td>\n",
       "      <td>2</td>\n",
       "      <td>50000.0</td>\n",
       "      <td>5.0</td>\n",
       "      <td>500.0</td>\n",
       "    </tr>\n",
       "    <tr>\n",
       "      <th>8561</th>\n",
       "      <td>1</td>\n",
       "      <td>10</td>\n",
       "      <td>4500.0</td>\n",
       "      <td>5.0</td>\n",
       "      <td>390.0</td>\n",
       "    </tr>\n",
       "    <tr>\n",
       "      <th>37</th>\n",
       "      <td>1</td>\n",
       "      <td>5</td>\n",
       "      <td>43000.0</td>\n",
       "      <td>6.0</td>\n",
       "      <td>150.0</td>\n",
       "    </tr>\n",
       "    <tr>\n",
       "      <th>...</th>\n",
       "      <td>...</td>\n",
       "      <td>...</td>\n",
       "      <td>...</td>\n",
       "      <td>...</td>\n",
       "      <td>...</td>\n",
       "    </tr>\n",
       "    <tr>\n",
       "      <th>5934</th>\n",
       "      <td>1</td>\n",
       "      <td>10</td>\n",
       "      <td>29500.0</td>\n",
       "      <td>7.0</td>\n",
       "      <td>200.0</td>\n",
       "    </tr>\n",
       "    <tr>\n",
       "      <th>7306</th>\n",
       "      <td>1</td>\n",
       "      <td>1</td>\n",
       "      <td>21578.0</td>\n",
       "      <td>6.0</td>\n",
       "      <td>180.0</td>\n",
       "    </tr>\n",
       "    <tr>\n",
       "      <th>7434</th>\n",
       "      <td>1</td>\n",
       "      <td>4</td>\n",
       "      <td>29800.0</td>\n",
       "      <td>7.0</td>\n",
       "      <td>150.0</td>\n",
       "    </tr>\n",
       "    <tr>\n",
       "      <th>7177</th>\n",
       "      <td>1</td>\n",
       "      <td>4</td>\n",
       "      <td>20199.0</td>\n",
       "      <td>7.0</td>\n",
       "      <td>150.0</td>\n",
       "    </tr>\n",
       "    <tr>\n",
       "      <th>3388</th>\n",
       "      <td>1</td>\n",
       "      <td>10</td>\n",
       "      <td>10838.0</td>\n",
       "      <td>4.0</td>\n",
       "      <td>390.0</td>\n",
       "    </tr>\n",
       "  </tbody>\n",
       "</table>\n",
       "<p>5859 rows × 5 columns</p>\n",
       "</div>"
      ],
      "text/plain": [
       "      owner  brand  kms_driven  age  power\n",
       "4859      1      4     24000.0  9.0  150.0\n",
       "1819      1      7     12193.0  2.0  100.0\n",
       "2050      1      2     50000.0  5.0  500.0\n",
       "8561      1     10      4500.0  5.0  390.0\n",
       "37        1      5     43000.0  6.0  150.0\n",
       "...     ...    ...         ...  ...    ...\n",
       "5934      1     10     29500.0  7.0  200.0\n",
       "7306      1      1     21578.0  6.0  180.0\n",
       "7434      1      4     29800.0  7.0  150.0\n",
       "7177      1      4     20199.0  7.0  150.0\n",
       "3388      1     10     10838.0  4.0  390.0\n",
       "\n",
       "[5859 rows x 5 columns]"
      ]
     },
     "execution_count": 152,
     "metadata": {},
     "output_type": "execute_result"
    }
   ],
   "source": [
    "x_train"
   ]
  },
  {
   "cell_type": "code",
   "execution_count": 154,
   "id": "d4786c39-a71a-4647-8ff6-281f172f5b2a",
   "metadata": {},
   "outputs": [],
   "source": [
    "from sklearn.linear_model import LinearRegression"
   ]
  },
  {
   "cell_type": "code",
   "execution_count": 155,
   "id": "33683e49-1be9-44a6-85e4-209aeb87110d",
   "metadata": {},
   "outputs": [],
   "source": [
    "lr = LinearRegression()"
   ]
  },
  {
   "cell_type": "code",
   "execution_count": 156,
   "id": "bc8d087f-64be-478d-8a27-a7d09b1cb743",
   "metadata": {},
   "outputs": [
    {
     "data": {
      "text/plain": [
       "LinearRegression()"
      ]
     },
     "execution_count": 156,
     "metadata": {},
     "output_type": "execute_result"
    }
   ],
   "source": [
    "lr.fit(x_train,y_train)"
   ]
  },
  {
   "cell_type": "code",
   "execution_count": 177,
   "id": "73dc2dfb-d764-4415-a681-6a4b7ff01c7b",
   "metadata": {},
   "outputs": [
    {
     "name": "stdout",
     "output_type": "stream",
     "text": [
      "Training score: 0.72\n",
      "Testing score: 0.74\n"
     ]
    }
   ],
   "source": [
    "training_score = lr.score(x_train, y_train)\n",
    "testing_score = lr.score(x_test, y_test)\n",
    "\n",
    "print(f\"Training score: {training_score:.2f}\")\n",
    "print(f\"Testing score: {testing_score:.2f}\")"
   ]
  },
  {
   "cell_type": "code",
   "execution_count": 178,
   "id": "b1d7b157-6bc2-4373-9329-1057807db264",
   "metadata": {},
   "outputs": [],
   "source": [
    "prediction = lr.predict(x_test)"
   ]
  },
  {
   "cell_type": "code",
   "execution_count": 179,
   "id": "66ff7408-11e4-46a1-a248-0057553c5621",
   "metadata": {},
   "outputs": [],
   "source": [
    "y_test['predicted_price'] = prediction"
   ]
  },
  {
   "cell_type": "code",
   "execution_count": 183,
   "id": "c4e9d87f-c0cb-4999-8f3a-67b91bda3308",
   "metadata": {},
   "outputs": [
    {
     "data": {
      "text/html": [
       "<div>\n",
       "<style scoped>\n",
       "    .dataframe tbody tr th:only-of-type {\n",
       "        vertical-align: middle;\n",
       "    }\n",
       "\n",
       "    .dataframe tbody tr th {\n",
       "        vertical-align: top;\n",
       "    }\n",
       "\n",
       "    .dataframe thead th {\n",
       "        text-align: right;\n",
       "    }\n",
       "</style>\n",
       "<table border=\"1\" class=\"dataframe\">\n",
       "  <thead>\n",
       "    <tr style=\"text-align: right;\">\n",
       "      <th></th>\n",
       "      <th>price</th>\n",
       "      <th>predicted_price</th>\n",
       "      <th>difference</th>\n",
       "    </tr>\n",
       "  </thead>\n",
       "  <tbody>\n",
       "    <tr>\n",
       "      <th>6646</th>\n",
       "      <td>22000.0</td>\n",
       "      <td>20259.402594</td>\n",
       "      <td>1740.597406</td>\n",
       "    </tr>\n",
       "    <tr>\n",
       "      <th>7275</th>\n",
       "      <td>30000.0</td>\n",
       "      <td>21848.364209</td>\n",
       "      <td>8151.635791</td>\n",
       "    </tr>\n",
       "    <tr>\n",
       "      <th>9242</th>\n",
       "      <td>66000.0</td>\n",
       "      <td>14661.538766</td>\n",
       "      <td>51338.461234</td>\n",
       "    </tr>\n",
       "    <tr>\n",
       "      <th>100</th>\n",
       "      <td>68000.0</td>\n",
       "      <td>92424.925170</td>\n",
       "      <td>-24424.925170</td>\n",
       "    </tr>\n",
       "    <tr>\n",
       "      <th>6</th>\n",
       "      <td>85000.0</td>\n",
       "      <td>54900.284107</td>\n",
       "      <td>30099.715893</td>\n",
       "    </tr>\n",
       "    <tr>\n",
       "      <th>...</th>\n",
       "      <td>...</td>\n",
       "      <td>...</td>\n",
       "      <td>...</td>\n",
       "    </tr>\n",
       "    <tr>\n",
       "      <th>4252</th>\n",
       "      <td>22950.0</td>\n",
       "      <td>48039.001580</td>\n",
       "      <td>-25089.001580</td>\n",
       "    </tr>\n",
       "    <tr>\n",
       "      <th>4833</th>\n",
       "      <td>28000.0</td>\n",
       "      <td>654.750488</td>\n",
       "      <td>27345.249512</td>\n",
       "    </tr>\n",
       "    <tr>\n",
       "      <th>2923</th>\n",
       "      <td>35000.0</td>\n",
       "      <td>17544.907451</td>\n",
       "      <td>17455.092549</td>\n",
       "    </tr>\n",
       "    <tr>\n",
       "      <th>8572</th>\n",
       "      <td>72000.0</td>\n",
       "      <td>55617.633374</td>\n",
       "      <td>16382.366626</td>\n",
       "    </tr>\n",
       "    <tr>\n",
       "      <th>3397</th>\n",
       "      <td>44000.0</td>\n",
       "      <td>80835.706687</td>\n",
       "      <td>-36835.706687</td>\n",
       "    </tr>\n",
       "  </tbody>\n",
       "</table>\n",
       "<p>1465 rows × 3 columns</p>\n",
       "</div>"
      ],
      "text/plain": [
       "        price  predicted_price    difference\n",
       "6646  22000.0     20259.402594   1740.597406\n",
       "7275  30000.0     21848.364209   8151.635791\n",
       "9242  66000.0     14661.538766  51338.461234\n",
       "100   68000.0     92424.925170 -24424.925170\n",
       "6     85000.0     54900.284107  30099.715893\n",
       "...       ...              ...           ...\n",
       "4252  22950.0     48039.001580 -25089.001580\n",
       "4833  28000.0       654.750488  27345.249512\n",
       "2923  35000.0     17544.907451  17455.092549\n",
       "8572  72000.0     55617.633374  16382.366626\n",
       "3397  44000.0     80835.706687 -36835.706687\n",
       "\n",
       "[1465 rows x 3 columns]"
      ]
     },
     "execution_count": 183,
     "metadata": {},
     "output_type": "execute_result"
    }
   ],
   "source": [
    "y_test"
   ]
  },
  {
   "cell_type": "code",
   "execution_count": 181,
   "id": "92779690-e43f-410f-bba6-acbe686509db",
   "metadata": {},
   "outputs": [],
   "source": [
    "y_test['difference'] = y_test['price']-y_test['predicted_price']"
   ]
  },
  {
   "cell_type": "code",
   "execution_count": 182,
   "id": "387e3f62-377d-4358-b197-5fa74e3ffb57",
   "metadata": {},
   "outputs": [
    {
     "data": {
      "text/html": [
       "<div>\n",
       "<style scoped>\n",
       "    .dataframe tbody tr th:only-of-type {\n",
       "        vertical-align: middle;\n",
       "    }\n",
       "\n",
       "    .dataframe tbody tr th {\n",
       "        vertical-align: top;\n",
       "    }\n",
       "\n",
       "    .dataframe thead th {\n",
       "        text-align: right;\n",
       "    }\n",
       "</style>\n",
       "<table border=\"1\" class=\"dataframe\">\n",
       "  <thead>\n",
       "    <tr style=\"text-align: right;\">\n",
       "      <th></th>\n",
       "      <th>price</th>\n",
       "      <th>predicted_price</th>\n",
       "      <th>difference</th>\n",
       "    </tr>\n",
       "  </thead>\n",
       "  <tbody>\n",
       "    <tr>\n",
       "      <th>6646</th>\n",
       "      <td>22000.0</td>\n",
       "      <td>20259.402594</td>\n",
       "      <td>1740.597406</td>\n",
       "    </tr>\n",
       "    <tr>\n",
       "      <th>7275</th>\n",
       "      <td>30000.0</td>\n",
       "      <td>21848.364209</td>\n",
       "      <td>8151.635791</td>\n",
       "    </tr>\n",
       "    <tr>\n",
       "      <th>9242</th>\n",
       "      <td>66000.0</td>\n",
       "      <td>14661.538766</td>\n",
       "      <td>51338.461234</td>\n",
       "    </tr>\n",
       "    <tr>\n",
       "      <th>100</th>\n",
       "      <td>68000.0</td>\n",
       "      <td>92424.925170</td>\n",
       "      <td>-24424.925170</td>\n",
       "    </tr>\n",
       "    <tr>\n",
       "      <th>6</th>\n",
       "      <td>85000.0</td>\n",
       "      <td>54900.284107</td>\n",
       "      <td>30099.715893</td>\n",
       "    </tr>\n",
       "    <tr>\n",
       "      <th>...</th>\n",
       "      <td>...</td>\n",
       "      <td>...</td>\n",
       "      <td>...</td>\n",
       "    </tr>\n",
       "    <tr>\n",
       "      <th>4252</th>\n",
       "      <td>22950.0</td>\n",
       "      <td>48039.001580</td>\n",
       "      <td>-25089.001580</td>\n",
       "    </tr>\n",
       "    <tr>\n",
       "      <th>4833</th>\n",
       "      <td>28000.0</td>\n",
       "      <td>654.750488</td>\n",
       "      <td>27345.249512</td>\n",
       "    </tr>\n",
       "    <tr>\n",
       "      <th>2923</th>\n",
       "      <td>35000.0</td>\n",
       "      <td>17544.907451</td>\n",
       "      <td>17455.092549</td>\n",
       "    </tr>\n",
       "    <tr>\n",
       "      <th>8572</th>\n",
       "      <td>72000.0</td>\n",
       "      <td>55617.633374</td>\n",
       "      <td>16382.366626</td>\n",
       "    </tr>\n",
       "    <tr>\n",
       "      <th>3397</th>\n",
       "      <td>44000.0</td>\n",
       "      <td>80835.706687</td>\n",
       "      <td>-36835.706687</td>\n",
       "    </tr>\n",
       "  </tbody>\n",
       "</table>\n",
       "<p>1465 rows × 3 columns</p>\n",
       "</div>"
      ],
      "text/plain": [
       "        price  predicted_price    difference\n",
       "6646  22000.0     20259.402594   1740.597406\n",
       "7275  30000.0     21848.364209   8151.635791\n",
       "9242  66000.0     14661.538766  51338.461234\n",
       "100   68000.0     92424.925170 -24424.925170\n",
       "6     85000.0     54900.284107  30099.715893\n",
       "...       ...              ...           ...\n",
       "4252  22950.0     48039.001580 -25089.001580\n",
       "4833  28000.0       654.750488  27345.249512\n",
       "2923  35000.0     17544.907451  17455.092549\n",
       "8572  72000.0     55617.633374  16382.366626\n",
       "3397  44000.0     80835.706687 -36835.706687\n",
       "\n",
       "[1465 rows x 3 columns]"
      ]
     },
     "execution_count": 182,
     "metadata": {},
     "output_type": "execute_result"
    }
   ],
   "source": [
    "y_test"
   ]
  },
  {
   "cell_type": "code",
   "execution_count": 184,
   "id": "99eb1618-4d45-4d87-ac07-6797bf3bbe7b",
   "metadata": {},
   "outputs": [],
   "source": [
    "import joblib"
   ]
  },
  {
   "cell_type": "code",
   "execution_count": 185,
   "id": "62f051ff-950a-40d4-a45f-e57bf80c7902",
   "metadata": {},
   "outputs": [
    {
     "data": {
      "text/plain": [
       "['linear_regression_model.lb']"
      ]
     },
     "execution_count": 185,
     "metadata": {},
     "output_type": "execute_result"
    }
   ],
   "source": [
    "joblib.dump(lr,'linear_regression_model.lb')"
   ]
  },
  {
   "cell_type": "code",
   "execution_count": null,
   "id": "0b4b32a5-57b5-4023-9181-7545cbef010a",
   "metadata": {},
   "outputs": [],
   "source": []
  }
 ],
 "metadata": {
  "kernelspec": {
   "display_name": "Python 3 (ipykernel)",
   "language": "python",
   "name": "python3"
  },
  "language_info": {
   "codemirror_mode": {
    "name": "ipython",
    "version": 3
   },
   "file_extension": ".py",
   "mimetype": "text/x-python",
   "name": "python",
   "nbconvert_exporter": "python",
   "pygments_lexer": "ipython3",
   "version": "3.9.19"
  }
 },
 "nbformat": 4,
 "nbformat_minor": 5
}
